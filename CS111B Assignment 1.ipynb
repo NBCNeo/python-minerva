{
 "cells": [
  {
   "cell_type": "markdown",
   "metadata": {},
   "source": [
    "### Assignment 1 - Systems of Linear Equations\n",
    "#### Juan Carlos Castro Fernandez\n",
    "\n",
    "##### 1. A matrix by another name\n",
    "\n",
    "(a) Show that $M_1$ and $M_2$ are row equivalent\n",
    "\n",
    "$$ M_1 = \\begin{bmatrix} \n",
    "0 & 1 & -3 & 2 \\\\\n",
    "3 & 0 & 6 & 3 \\\\\n",
    "4 & -1 & 11 & 2\n",
    "\\end{bmatrix},   \n",
    "M_2 = \\begin{bmatrix} \n",
    "3 & -1 & 9 & 1 \\\\\n",
    "0 & 5 & -15 & 10 \\\\\n",
    "1 & 0 & 2 & 1\n",
    "\\end{bmatrix} $$\n",
    "\n",
    "Let's define both matrices in Sage and do some row operations with them:"
   ]
  },
  {
   "cell_type": "code",
   "execution_count": 11,
   "metadata": {},
   "outputs": [
    {
     "data": {
      "text/plain": [
       "[  3  -1   9   1]\n",
       "[  0   5 -15  10]\n",
       "[  4  -1  11   2]"
      ]
     },
     "execution_count": 11,
     "metadata": {},
     "output_type": "execute_result"
    }
   ],
   "source": [
    "M1 = matrix(QQ,[[0,1,-3,2],[3,0,6,3],[4,-1,11,2]])\n",
    "M2 = matrix(QQ,[[3,-1,9,1],[0,5,-15,10],[1,0,2,1]])\n",
    "\n",
    "#Let's do some row operations on M_2 to get to M1\n",
    "\n",
    "M2.add_multiple_of_row(2,0,1)  #r3 = r3+r1\n",
    "M2"
   ]
  },
  {
   "cell_type": "code",
   "execution_count": 12,
   "metadata": {},
   "outputs": [
    {
     "data": {
      "text/plain": [
       "[ 3 -1  9  1]\n",
       "[ 0  1 -3  2]\n",
       "[ 4 -1 11  2]"
      ]
     },
     "execution_count": 12,
     "metadata": {},
     "output_type": "execute_result"
    }
   ],
   "source": [
    "M2.rescale_row(1,1/5) #r2 = r2/5\n",
    "M2"
   ]
  },
  {
   "cell_type": "code",
   "execution_count": 13,
   "metadata": {},
   "outputs": [
    {
     "data": {
      "text/plain": [
       "[ 3 -1  9  1]\n",
       "[ 3  0  6  3]\n",
       "[ 4 -1 11  2]"
      ]
     },
     "execution_count": 13,
     "metadata": {},
     "output_type": "execute_result"
    }
   ],
   "source": [
    "M2.add_multiple_of_row(1,0,1) #r2 = r2 + r1\n",
    "M2"
   ]
  },
  {
   "cell_type": "code",
   "execution_count": 14,
   "metadata": {},
   "outputs": [
    {
     "data": {
      "text/plain": [
       "[ 0 -1  3 -2]\n",
       "[ 3  0  6  3]\n",
       "[ 4 -1 11  2]"
      ]
     },
     "execution_count": 14,
     "metadata": {},
     "output_type": "execute_result"
    }
   ],
   "source": [
    "M2.add_multiple_of_row(0,1,-1) #r1 = r1 - r2\n",
    "M2"
   ]
  },
  {
   "cell_type": "code",
   "execution_count": 15,
   "metadata": {},
   "outputs": [
    {
     "data": {
      "text/plain": [
       "[ 0  1 -3  2]\n",
       "[ 3  0  6  3]\n",
       "[ 4 -1 11  2]"
      ]
     },
     "execution_count": 15,
     "metadata": {},
     "output_type": "execute_result"
    }
   ],
   "source": [
    "M2.rescale_row(0,-1) #r1 = -r1\n",
    "M2"
   ]
  },
  {
   "cell_type": "code",
   "execution_count": 16,
   "metadata": {},
   "outputs": [
    {
     "data": {
      "text/plain": [
       "[ 0  1 -3  2]\n",
       "[ 3  0  6  3]\n",
       "[ 4 -1 11  2]"
      ]
     },
     "execution_count": 16,
     "metadata": {},
     "output_type": "execute_result"
    }
   ],
   "source": [
    "M1"
   ]
  },
  {
   "cell_type": "code",
   "execution_count": 17,
   "metadata": {},
   "outputs": [
    {
     "data": {
      "text/plain": [
       "True"
      ]
     },
     "execution_count": 17,
     "metadata": {},
     "output_type": "execute_result"
    }
   ],
   "source": [
    "M1 == M2"
   ]
  },
  {
   "cell_type": "code",
   "execution_count": 18,
   "metadata": {},
   "outputs": [
    {
     "data": {
      "text/plain": [
       "[1 0 1]\n",
       "[0 1 2]\n",
       "[0 0 0]"
      ]
     },
     "execution_count": 18,
     "metadata": {},
     "output_type": "execute_result"
    }
   ],
   "source": [
    "N1 = matrix(QQ,[[0,1,2],[3,0,3],[4,-1,2]])\n",
    "N2 = matrix(QQ,[[3,-1,1],[0,5,10],[1,0,1]])\n",
    "N1.rref()"
   ]
  },
  {
   "cell_type": "code",
   "execution_count": 19,
   "metadata": {},
   "outputs": [
    {
     "data": {
      "text/plain": [
       "[1 0 1]\n",
       "[0 1 2]\n",
       "[0 0 0]"
      ]
     },
     "execution_count": 19,
     "metadata": {},
     "output_type": "execute_result"
    }
   ],
   "source": [
    "N2.rref()"
   ]
  },
  {
   "cell_type": "code",
   "execution_count": 21,
   "metadata": {},
   "outputs": [
    {
     "data": {
      "text/plain": [
       "True"
      ]
     },
     "execution_count": 21,
     "metadata": {},
     "output_type": "execute_result"
    }
   ],
   "source": [
    "N1.rref() == N2.rref()"
   ]
  },
  {
   "cell_type": "code",
   "execution_count": 22,
   "metadata": {},
   "outputs": [
    {
     "data": {
      "text/plain": [
       "True"
      ]
     },
     "execution_count": 22,
     "metadata": {},
     "output_type": "execute_result"
    }
   ],
   "source": [
    "N_1 = matrix(QQ,[[0,1,-3],[3,0,6],[4,-1,11]])\n",
    "N_2 = matrix(QQ,[[3,-1,9],[0,5,-15],[1,0,2]])\n",
    "N_1.rref()==N_2.rref()"
   ]
  },
  {
   "cell_type": "markdown",
   "metadata": {},
   "source": [
    "c) No, it does not affect row equivalence. If we put two equivalent matrices in RREF, they will both look exactly the same. The reason for this is that, if two matrices are equivalent then we can get from one to the other with by a series of elementary row operations. This means that we could bring one matrix to the other (after some row operations) and doing the reducing to rref after they all have the same elements, should yield the same rref as the rref is unique for each matrix. Eliminating a row or a column for two matrices that are exactly the same yields the same matrix. \n",
    "Even if the deletion of the column is done before the row operations, we can still get from one matrix to the other that were equivalent before the deletion. The reason for this is that a row operation affects each element in the row independently from each other. Row operations affect each element in the row in the same way, this means that regardless of the other elements in a different column of the same row, after performing X operation to row Y, every element will be affected depending only on X and not on any other element in row Y."
   ]
  },
  {
   "cell_type": "markdown",
   "metadata": {},
   "source": [
    "d) Let's define the matrix in Sage and reduce to RREF:"
   ]
  },
  {
   "cell_type": "code",
   "execution_count": 23,
   "metadata": {},
   "outputs": [
    {
     "data": {
      "text/plain": [
       "[1 0 0]\n",
       "[0 1 0]\n",
       "[0 0 1]"
      ]
     },
     "execution_count": 23,
     "metadata": {},
     "output_type": "execute_result"
    }
   ],
   "source": [
    "D = matrix(QQ,[[2,4,5],[2,9,-1],[4,1,20]])\n",
    "D.rref()"
   ]
  },
  {
   "cell_type": "markdown",
   "metadata": {},
   "source": [
    "After having the RREF form we can see that the last column is a row of 0's except for the last column. Translated to equations, this would mean that $0x + 0y = 1$, which is $0=1$, which is inconsistent and, therefore, there are no solutions.\n",
    "\n",
    "f)\n",
    "    (i) Row equivalent augmented matrices have the same solution set.\n",
    "    True. If two matrices are row equivalent, we can perform a series of elementary row operations to get from one matrix to the other. After this is done, having to matrices with the exact same elements yields the exact same system of equations. Therefore, the solution sets are exactly the same.\n",
    "    (ii) True. Let's assume two matrices have the same solution set. This means that NOT SURE YET WHY\n"
   ]
  },
  {
   "cell_type": "code",
   "execution_count": null,
   "metadata": {},
   "outputs": [],
   "source": []
  }
 ],
 "metadata": {
  "kernelspec": {
   "display_name": "SageMath 8.3",
   "language": "",
   "name": "sagemath"
  },
  "language_info": {
   "codemirror_mode": {
    "name": "ipython",
    "version": 2
   },
   "file_extension": ".py",
   "mimetype": "text/x-python",
   "name": "python",
   "nbconvert_exporter": "python",
   "pygments_lexer": "ipython2",
   "version": "2.7.15"
  }
 },
 "nbformat": 4,
 "nbformat_minor": 2
}
