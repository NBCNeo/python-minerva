{
 "cells": [
  {
   "cell_type": "code",
   "execution_count": 15,
   "metadata": {
    "scrolled": true
   },
   "outputs": [
    {
     "name": "stdout",
     "output_type": "stream",
     "text": [
      "('011001001$110110101', False)\n",
      "('1$10', False)\n",
      "('011$0000', False)\n",
      "('101111$111001', False)\n",
      "('0101011$01100100', False)\n",
      "('0101100000$10000000010', False)\n",
      "('0000110110$11110001010', False)\n",
      "('1101100001$1010101101', False)\n",
      "('100110101$0101011001', False)\n",
      "('10110$00111', False)\n"
     ]
    }
   ],
   "source": [
    "import random\n",
    "\n",
    "def bin(n):\n",
    "    return \"{0:b}\".format(n)\n",
    "    \n",
    "def rev(s): \n",
    "    if len(s) == 0: \n",
    "        return s \n",
    "    else: \n",
    "        return rev(s[1:]) + s[0]\n",
    "    \n",
    "valid_strings = []\n",
    "for i in range(1,1001):\n",
    "    valid_strings.append(bin(i)+'$'+rev(bin((i+1))))\n",
    "\n",
    "for i in range(10):\n",
    "    s = ''\n",
    "    l1 = random.randint(1,10)\n",
    "    l2 = l1+random.randint(0,1)\n",
    "    for _ in range(l1):\n",
    "        s=s+str(random.randint(0,1))\n",
    "    s=s+'$'\n",
    "    for _ in range(l2):\n",
    "        s=s+str(random.randint(0,1))\n",
    "    print(s, s in valid_strings)"
   ]
  },
  {
   "cell_type": "code",
   "execution_count": null,
   "metadata": {},
   "outputs": [],
   "source": []
  }
 ],
 "metadata": {
  "kernelspec": {
   "display_name": "Python 2",
   "language": "python",
   "name": "python2"
  },
  "language_info": {
   "codemirror_mode": {
    "name": "ipython",
    "version": 2
   },
   "file_extension": ".py",
   "mimetype": "text/x-python",
   "name": "python",
   "nbconvert_exporter": "python",
   "pygments_lexer": "ipython2",
   "version": "2.7.15"
  }
 },
 "nbformat": 4,
 "nbformat_minor": 2
}
