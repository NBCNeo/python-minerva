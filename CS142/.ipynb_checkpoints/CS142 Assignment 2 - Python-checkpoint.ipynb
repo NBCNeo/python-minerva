{
 "cells": [
  {
   "cell_type": "code",
   "execution_count": 1,
   "metadata": {},
   "outputs": [],
   "source": [
    "import threading\n",
    "import string\n",
    "\n",
    "threads = []\n",
    "accepting_threads = []\n",
    "Lambda = list(string.ascii_lowercase) + list(string.ascii_uppercase)\n",
    "Omega = ['>','=','<','(',')'] #( is <= and ) is >=\n",
    "D = ['0','1','2','3','4','5','6','7','8','9']\n",
    "E = ['.','+','-']\n",
    "Gamma = Lambda + Omega + D + E\n",
    "\n",
    "#tokens are surrounded by [] for the simulator to understand it is a token\n",
    "\n",
    "def S0(s):\n",
    "    tname = threading.currentThread().getName()\n",
    "    print('\\t',tname, 'enters state S0 with s=',s)\n",
    "    if len(s)>0:\n",
    "        if s[0] == '[':\n",
    "            closing_index = s.index(']')\n",
    "            if s[1:closing_index] == 'If':\n",
    "                P0(s[closing_index+1:])\n",
    "\n",
    "def P0(s):\n",
    "    tname = threading.currentThread().getName()\n",
    "    print('\\t',tname, 'enters state P0 with s=',s)\n",
    "    if len(s)>0:\n",
    "        if s[0] in Lambda:\n",
    "            P1(s[1:])\n",
    "\n",
    "def P1(s):\n",
    "    tname = threading.currentThread().getName()\n",
    "    print('\\t',tname, 'enters state P1 with s=',s)\n",
    "    if len(s)>0:\n",
    "        if s[0] in Omega:\n",
    "            Q0(s[1:])\n",
    "    \n",
    "def Q0(s):\n",
    "    tname = threading.currentThread().getName()\n",
    "    print('\\t',tname, 'enters state Q0 with s=',s)\n",
    "    if len(s)>0:\n",
    "        if s[0] == \"+\" or s[0] == \"-\":\n",
    "            Q1(s[1:])\n",
    "        if s[0] in D:\n",
    "            Q2(s[1:])\n",
    "        if s[0] == \".\":\n",
    "            Q3(s[1:])\n",
    "    \n",
    "def Q1(s):\n",
    "    tname = threading.currentThread().getName()\n",
    "    print('\\t',tname, 'enters state Q1 with s=',s)\n",
    "    if len(s)>0:\n",
    "        if s[0] == '.':\n",
    "            Q3(s[1:])\n",
    "        if s[0] in D:\n",
    "            Q2(s[1:])\n",
    "            \n",
    "def Q3(s):\n",
    "    tname = threading.currentThread().getName()\n",
    "    print('\\t',tname, 'enters state Q3 with s=',s)\n",
    "    if len(s)>0:\n",
    "        if s[0] in D:\n",
    "            Q4(s[1:])\n",
    "\n",
    "def Q2(s):\n",
    "    tname = threading.currentThread().getName()\n",
    "    print('\\t',tname, 'enters state Q2 with s=',s)\n",
    "    if len(s)>0:\n",
    "        if s[0] in D:\n",
    "            Q2(s[1:])\n",
    "        if s[0] == \".\":\n",
    "            Q4(s[1:])\n",
    "        if s[0] == \"[\":\n",
    "            closing_index = s.index(']')\n",
    "            if s[1:closing_index] == 'then':\n",
    "                S1(s[closing_index+1:])\n",
    "            \n",
    "    \n",
    "def Q4(s):\n",
    "    tname = threading.currentThread().getName()\n",
    "    print('\\t',tname, 'enters state Q4 with s=',s)\n",
    "    if len(s)>0:\n",
    "        if s[0] in D:\n",
    "            Q4(s[1:])\n",
    "        if s[0] == \"[\":\n",
    "            closing_index = s.index(']')\n",
    "            if s[1:closing_index] == 'then':\n",
    "                S1(s[closing_index+1:])\n",
    "    \n",
    "    \n",
    "def S1(s):\n",
    "    tname = threading.currentThread().getName()\n",
    "    print('\\t',tname, 'enters state S1 with s=',s)\n",
    "    if len(s)>0:\n",
    "        if s[0] in Lambda:\n",
    "            S2(s[1:])\n",
    "\n",
    "def S2(s):\n",
    "    tname = threading.currentThread().getName()\n",
    "    print('\\t',tname, 'enters state S1 with s=',s)\n",
    "    if len(s)>0:\n",
    "        if s[0] ==\"=\":\n",
    "            Q_0(s[1:])\n",
    "\n",
    "def Q_0(s):\n",
    "    tname = threading.currentThread().getName()\n",
    "    print('\\t',tname, \"enters state Q_0 with s=\",s)\n",
    "    if len(s)>0:\n",
    "        if s[0] == \"+\" or s[0] == \"-\":\n",
    "            Q_1(s[1:])\n",
    "        if s[0] in D:\n",
    "            Q_2(s[1:])\n",
    "        if s[0] == \".\":\n",
    "            Q_3(s[1:])\n",
    "    \n",
    "def Q_1(s):\n",
    "    tname = threading.currentThread().getName()\n",
    "    print('\\t',tname, \"enters state Q_1 with s=\",s)\n",
    "    if len(s)>0:\n",
    "        if s[0] == '.':\n",
    "            Q_3(s[1:])\n",
    "        if s[0] in D:\n",
    "            Q_2(s[1:])\n",
    "            \n",
    "def Q_3(s):\n",
    "    tname = threading.currentThread().getName()\n",
    "    print('\\t',tname, \"enters state Q_3 with s=\",s)\n",
    "    if len(s)>0:\n",
    "        if s[0] in D:\n",
    "            Q_4(s[1:])\n",
    "\n",
    "def Q_2(s):\n",
    "    tname = threading.currentThread().getName()\n",
    "    print('\\t',tname, \"enters state Q_2 with s=\",s)\n",
    "    if len(s)>0:\n",
    "        if s[0] in D:\n",
    "            Q_2(s[1:])\n",
    "        if s[0] == \".\":\n",
    "            Q_4(s[1:])\n",
    "        if s[0] == \"[\":\n",
    "            closing_index = s.index(']')\n",
    "            if s[1:closing_index] == 'endif':\n",
    "                S3(s[closing_index+1:])\n",
    "            \n",
    "    \n",
    "def Q_4(s):\n",
    "    tname = threading.currentThread().getName()\n",
    "    print('\\t',tname, \"enters state Q_4 with s=\",s)\n",
    "    if len(s)>0:\n",
    "        if s[0] in D:\n",
    "            Q_4(s[1:])\n",
    "        if s[0] == \"[\":\n",
    "            closing_index = s.index(']')\n",
    "            if s[1:closing_index] == 'endif':\n",
    "                S3(s[closing_index+1:])\n",
    "    \n",
    "def S3(s):\n",
    "    tname = threading.currentThread().getName()\n",
    "    print('\\t',tname, \"enters state S3 with s=\",s)\n",
    "    if len(s) == 0:\n",
    "        tname = threading.currentThread().getName()\n",
    "        print('******',tname, 'reached accept state S3 ***')\n",
    "        accepting_threads.append(tname)\n",
    "\n",
    "def test_Mb(s):\n",
    "    if accepting_threads:\n",
    "        print('M_B accepts string '+s)\n",
    "    else:\n",
    "        print('M_B rejects srting '+s)\n",
    "        \n",
    "s1 = '[If]A>0[then]B=10.5[endif]'\n",
    "s2 = '[If]A>0[then]B=10.5e2'"
   ]
  },
  {
   "cell_type": "code",
   "execution_count": 2,
   "metadata": {},
   "outputs": [
    {
     "name": "stdout",
     "output_type": "stream",
     "text": [
      "('\\t', 'MainThread', 'enters state S0 with s=', '[If]A>0[then]B=10.5[endif]')\n",
      "('\\t', 'MainThread', 'enters state P0 with s=', 'A>0[then]B=10.5[endif]')\n",
      "('\\t', 'MainThread', 'enters state P1 with s=', '>0[then]B=10.5[endif]')\n",
      "('\\t', 'MainThread', 'enters state Q0 with s=', '0[then]B=10.5[endif]')\n",
      "('\\t', 'MainThread', 'enters state Q2 with s=', '[then]B=10.5[endif]')\n",
      "('\\t', 'MainThread', 'enters state S1 with s=', 'B=10.5[endif]')\n",
      "('\\t', 'MainThread', 'enters state S1 with s=', '=10.5[endif]')\n",
      "('\\t', 'MainThread', 'enters state Q_0 with s=', '10.5[endif]')\n",
      "('\\t', 'MainThread', 'enters state Q_2 with s=', '0.5[endif]')\n",
      "('\\t', 'MainThread', 'enters state Q_2 with s=', '.5[endif]')\n",
      "('\\t', 'MainThread', 'enters state Q_4 with s=', '5[endif]')\n",
      "('\\t', 'MainThread', 'enters state Q_4 with s=', '[endif]')\n",
      "('\\t', 'MainThread', 'enters state S3 with s=', '')\n",
      "('******', 'MainThread', 'reached accept state S3 ***')\n"
     ]
    }
   ],
   "source": [
    "S0(s1)"
   ]
  },
  {
   "cell_type": "code",
   "execution_count": 3,
   "metadata": {},
   "outputs": [
    {
     "name": "stdout",
     "output_type": "stream",
     "text": [
      "M_B accepts string [If]A>0[then]B=10.5[endif]\n"
     ]
    }
   ],
   "source": [
    "test_Mb(s1)"
   ]
  },
  {
   "cell_type": "code",
   "execution_count": 4,
   "metadata": {},
   "outputs": [
    {
     "name": "stdout",
     "output_type": "stream",
     "text": [
      "('\\t', 'MainThread', 'enters state S0 with s=', '[If]A>0[then]B=10.5e2')\n",
      "('\\t', 'MainThread', 'enters state P0 with s=', 'A>0[then]B=10.5e2')\n",
      "('\\t', 'MainThread', 'enters state P1 with s=', '>0[then]B=10.5e2')\n",
      "('\\t', 'MainThread', 'enters state Q0 with s=', '0[then]B=10.5e2')\n",
      "('\\t', 'MainThread', 'enters state Q2 with s=', '[then]B=10.5e2')\n",
      "('\\t', 'MainThread', 'enters state S1 with s=', 'B=10.5e2')\n",
      "('\\t', 'MainThread', 'enters state S1 with s=', '=10.5e2')\n",
      "('\\t', 'MainThread', 'enters state Q_0 with s=', '10.5e2')\n",
      "('\\t', 'MainThread', 'enters state Q_2 with s=', '0.5e2')\n",
      "('\\t', 'MainThread', 'enters state Q_2 with s=', '.5e2')\n",
      "('\\t', 'MainThread', 'enters state Q_4 with s=', '5e2')\n",
      "('\\t', 'MainThread', 'enters state Q_4 with s=', 'e2')\n"
     ]
    }
   ],
   "source": [
    "threads = []\n",
    "accepting_threads = []\n",
    "S0(s2)"
   ]
  },
  {
   "cell_type": "code",
   "execution_count": 5,
   "metadata": {},
   "outputs": [
    {
     "name": "stdout",
     "output_type": "stream",
     "text": [
      "M_B rejects srting [If]A>0[then]B=10.5e2\n"
     ]
    }
   ],
   "source": [
    "test_Mb(s2)"
   ]
  },
  {
   "cell_type": "code",
   "execution_count": 6,
   "metadata": {},
   "outputs": [
    {
     "name": "stdout",
     "output_type": "stream",
     "text": [
      "('\\t', 'MainThread', 'enters state S0 with s=', '[If]Q).893[then]r=-10923090.[endif]')\n",
      "('\\t', 'MainThread', 'enters state P0 with s=', 'Q).893[then]r=-10923090.[endif]')\n",
      "('\\t', 'MainThread', 'enters state P1 with s=', ').893[then]r=-10923090.[endif]')\n",
      "('\\t', 'MainThread', 'enters state Q0 with s=', '.893[then]r=-10923090.[endif]')\n",
      "('\\t', 'MainThread', 'enters state Q3 with s=', '893[then]r=-10923090.[endif]')\n",
      "('\\t', 'MainThread', 'enters state Q4 with s=', '93[then]r=-10923090.[endif]')\n",
      "('\\t', 'MainThread', 'enters state Q4 with s=', '3[then]r=-10923090.[endif]')\n",
      "('\\t', 'MainThread', 'enters state Q4 with s=', '[then]r=-10923090.[endif]')\n",
      "('\\t', 'MainThread', 'enters state S1 with s=', 'r=-10923090.[endif]')\n",
      "('\\t', 'MainThread', 'enters state S1 with s=', '=-10923090.[endif]')\n",
      "('\\t', 'MainThread', 'enters state Q_0 with s=', '-10923090.[endif]')\n",
      "('\\t', 'MainThread', 'enters state Q_1 with s=', '10923090.[endif]')\n",
      "('\\t', 'MainThread', 'enters state Q_2 with s=', '0923090.[endif]')\n",
      "('\\t', 'MainThread', 'enters state Q_2 with s=', '923090.[endif]')\n",
      "('\\t', 'MainThread', 'enters state Q_2 with s=', '23090.[endif]')\n",
      "('\\t', 'MainThread', 'enters state Q_2 with s=', '3090.[endif]')\n",
      "('\\t', 'MainThread', 'enters state Q_2 with s=', '090.[endif]')\n",
      "('\\t', 'MainThread', 'enters state Q_2 with s=', '90.[endif]')\n",
      "('\\t', 'MainThread', 'enters state Q_2 with s=', '0.[endif]')\n",
      "('\\t', 'MainThread', 'enters state Q_2 with s=', '.[endif]')\n",
      "('\\t', 'MainThread', 'enters state Q_4 with s=', '[endif]')\n",
      "('\\t', 'MainThread', 'enters state S3 with s=', '')\n",
      "('******', 'MainThread', 'reached accept state S3 ***')\n"
     ]
    }
   ],
   "source": [
    "s3 = '[If]Q).893[then]r=-10923090.[endif]'\n",
    "threads = []\n",
    "accepting_threads = []\n",
    "S0(s3)"
   ]
  },
  {
   "cell_type": "code",
   "execution_count": 7,
   "metadata": {},
   "outputs": [
    {
     "name": "stdout",
     "output_type": "stream",
     "text": [
      "M_B accepts string [If]Q).893[then]r=-10923090.[endif]\n"
     ]
    }
   ],
   "source": [
    "test_Mb(s3)"
   ]
  },
  {
   "cell_type": "code",
   "execution_count": 8,
   "metadata": {},
   "outputs": [
    {
     "name": "stdout",
     "output_type": "stream",
     "text": [
      "('\\t', 'MainThread', 'enters state S0 with s=', '[If]k(.[then]l=230.12[endif]')\n",
      "('\\t', 'MainThread', 'enters state P0 with s=', 'k(.[then]l=230.12[endif]')\n",
      "('\\t', 'MainThread', 'enters state P1 with s=', '(.[then]l=230.12[endif]')\n",
      "('\\t', 'MainThread', 'enters state Q0 with s=', '.[then]l=230.12[endif]')\n",
      "('\\t', 'MainThread', 'enters state Q3 with s=', '[then]l=230.12[endif]')\n"
     ]
    }
   ],
   "source": [
    "s4 = '[If]k(.[then]l=230.12[endif]'\n",
    "threads = []\n",
    "accepting_threads = []\n",
    "S0(s4)"
   ]
  },
  {
   "cell_type": "code",
   "execution_count": 9,
   "metadata": {},
   "outputs": [
    {
     "name": "stdout",
     "output_type": "stream",
     "text": [
      "M_B rejects srting [If]k(.[then]l=230.12[endif]\n"
     ]
    }
   ],
   "source": [
    "test_Mb(s4)"
   ]
  }
 ],
 "metadata": {
  "kernelspec": {
   "display_name": "Python 2",
   "language": "python",
   "name": "python2"
  },
  "language_info": {
   "codemirror_mode": {
    "name": "ipython",
    "version": 2
   },
   "file_extension": ".py",
   "mimetype": "text/x-python",
   "name": "python",
   "nbconvert_exporter": "python",
   "pygments_lexer": "ipython2",
   "version": "2.7.15"
  }
 },
 "nbformat": 4,
 "nbformat_minor": 2
}
