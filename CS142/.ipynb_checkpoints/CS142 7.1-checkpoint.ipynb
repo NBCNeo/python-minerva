{
 "cells": [
  {
   "cell_type": "markdown",
   "metadata": {},
   "source": []
  },
  {
   "cell_type": "code",
   "execution_count": 3,
   "metadata": {},
   "outputs": [
    {
     "name": "stdout",
     "output_type": "stream",
     "text": [
      "Accept\n"
     ]
    }
   ],
   "source": [
    "stack = []\n",
    "def q0(s,stack):\n",
    "    stack.append('x')\n",
    "    q1(s,stack)\n",
    "\n",
    "def q1(s,stack):\n",
    "    if len(s)>0:\n",
    "        if s[0]=='0':\n",
    "            stack.append('0')\n",
    "            q1(s[1:],stack)\n",
    "        elif s[0]=='1':\n",
    "            stack.append('1')\n",
    "            q1(s[1:],stack)\n",
    "        elif s[0]=='$':\n",
    "            q2(s[1:],stack)\n",
    "        else:\n",
    "            print('Reject')\n",
    "    else:\n",
    "        print('Reject')\n",
    "\n",
    "def q2(s,stack):\n",
    "    if len(s)>0:\n",
    "        if s[0]=='0' and stack[-1]=='1':\n",
    "            stack.pop()\n",
    "            q2(s[1:],stack)\n",
    "        elif s[0]=='1' and stack[-1]=='x':\n",
    "            stack.pop()\n",
    "            q4(s[1:],stack)\n",
    "        elif s[0]=='1' and stack[-1]=='0':\n",
    "            stack.pop()\n",
    "            q3(s[1:],stack)\n",
    "        else:\n",
    "            print('Reject')\n",
    "    else:\n",
    "        print('Reject')\n",
    "\n",
    "def q3(s,stack):\n",
    "    if len(s)>0:\n",
    "        if s[0]=='0' and stack[-1]=='0':\n",
    "            stack.pop()\n",
    "            q3(s[1:],stack)\n",
    "        elif s[0]=='1' and stack[-1]=='1':\n",
    "            stack.pop()\n",
    "            q3(s[1:],stack)\n",
    "        else:\n",
    "            print('Reject')\n",
    "    else:\n",
    "        if stack[-1]=='x':\n",
    "            q4(s,stack)\n",
    "        else:\n",
    "            print('Reject')\n",
    "\n",
    "def q4(s,stack):\n",
    "    if len(s) == 0:\n",
    "        print('Accept')\n",
    "        \n",
    "q0('1001001$0101001',stack)"
   ]
  }
 ],
 "metadata": {
  "kernelspec": {
   "display_name": "Python 2",
   "language": "python",
   "name": "python2"
  },
  "language_info": {
   "codemirror_mode": {
    "name": "ipython",
    "version": 2
   },
   "file_extension": ".py",
   "mimetype": "text/x-python",
   "name": "python",
   "nbconvert_exporter": "python",
   "pygments_lexer": "ipython2",
   "version": "2.7.15"
  }
 },
 "nbformat": 4,
 "nbformat_minor": 2
}
