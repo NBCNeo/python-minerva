{
 "cells": [
  {
   "cell_type": "markdown",
   "metadata": {},
   "source": [
    "# Assignment 2 - Regular Expressions and Finite Automata\n",
    "\n",
    "##### Juan Castro Fernandez\n",
    "\n",
    "## 1 Warm-up: Mathematical Proofs\n",
    "\n",
    "### 1. \n",
    "\n",
    "Let's say our alphabet is $\\Sigma = \\{0,1\\}$. Let's consider now the following homorphism $f:\\Sigma \\rightarrow \\Sigma^*$ given by\n",
    "\n",
    "$f(w) = 00$ when $w=0$\n",
    "\n",
    "$f(w) = 11$ when $w=1$\n",
    "\n",
    "So if we consider the language \n",
    "\n",
    "$A = \\{w | w $ ends with a $0 \\} = \\Sigma^*0,$ \n",
    "\n",
    "then the language $B$ given by $f(A)$ would be \n",
    "\n",
    "$f(A) = B = \\{ w | w$ does not contain the string $101$ or $010$ and it ends with $00 \\} = \\{00,11\\}^*00$\n",
    "\n",
    "We can see this by looking at what $f$ is doing. It is simply duplicating every character in the string. This means that every $0$ will now become a $00$ and every $1$ will now become a $11$. The new language then does not allow to have the substring $101$ nor the substring $010$ because the string is composed of only sequences of $00$s and $11$s, thus those two substrings cannot appear in the string. Finally because the language $A$ had the condition that it needed to end with a $0$, then after applying $f$ the $0$ in the end became $00$, so the strings in $B$ have to end with $00$."
   ]
  },
  {
   "cell_type": "markdown",
   "metadata": {},
   "source": [
    "### 2. \n",
    "\n",
    "Let's say our first alphabet is $\\Sigma = \\{0,1\\}$ and our second alphabet $\\Gamma = \\{ a,b \\}$ and the homorphism will be given by the following function\n",
    "\n",
    "$f(w) = ab$ when $w=0$\n",
    "\n",
    "$f(w) = ba$ when $w=1$\n",
    "\n",
    "So if we consider the language\n",
    "\n",
    "$A = \\{w | w $ has at least two $1$s $\\} = \\Sigma^*1\\Sigma^*1\\Sigma^*,$ \n",
    "\n",
    "then the language $B$ given by $f(A)$ would be \n",
    "\n",
    "$f(A) = B = \\{ w | $ every two consecutive characters in $w$, where the first of which is in an odd position, are different, the string starts with $baba$, the string starts with $ba$ and the substring $bb$ appears at least once, the substring $bbab$ appears at least once, or the substring $bb$ appears at least twice  $\\}$ $= (baba(ab \\cup ba)^*) \\cup (ba((ab \\cup ba)^*abba(ab \\cup ba)^*) \\cup ((ab \\cup ba)^*abbaba) \\cup ((ab \\cup ba)^*abba(ab \\cup ba)^*abba(ab \\cup ba)^*)$\n",
    "\n",
    "The reason for this is that for there to be at least two $1$s one of the following cases has to happen:\n",
    "\n",
    "- the string $w = w_1w_2...w_n \\ \\epsilon \\ \\Sigma$ starts with $11$ and in that case $f(w) = babaf(w_3)...f(w_n)$\n",
    "- $w$ starts with a 1 and has a 1 elsewhere (say the first $1$ after $w_1$ is $w_i$), i.e. $w = 10..01w_{i+1}...w_n$ and in that case $f(w) = baab...abbaf(w_{i+1})...f(w_n)$\n",
    "- two $1$s appear consecutively in $w$ (say they appear in positions $i$ and $i+1$), i.e. $w = 0...011w_{i+2}...w_n$ and in that case $f(w) = ab...abbabaf(w_{i+2})...f(w_n)$\n",
    "- two $1$s appear not consecutively in $w$ (say that they appear in positions $i$ and $j$), i.e $w = 0...010...01w_{j+1}...w_n$ and in that case $f(w) = ab...abbaab...abbaf(w_{j+1})...f(w_n)$"
   ]
  },
  {
   "cell_type": "markdown",
   "metadata": {},
   "source": [
    "### 3.\n",
    "\n",
    "Say that the language $A$ is accepted by the DFA called $M$. We'll say that $A$ is over the alphabet $\\Sigma$. Let's define $M$ as the 5-tuple $(Q, \\Sigma, \\delta, q_0, F)$\n",
    "\n",
    "Now, let's consider the homorphism $f:\\Sigma \\rightarrow \\Gamma^*$. \n",
    "\n",
    "We are now going to build a GNFA $G$ such that $G$ accepts $B=f(A)$. If we succeed in this, we will have proven that $B$ is regular and thus, regular languages are closed under homorphism.\n",
    "\n",
    "To do this we will use the following lemma:\n",
    "\n",
    "---\n",
    "\n",
    "__Lemma 1__:\n",
    "\n",
    "Any finite string $w = w_1w_2...w_n$ over an alphabet $\\Gamma$ is a regular expression.\n",
    "\n",
    "__Proof__:\n",
    "\n",
    "We know that $R$ is a regular expression if $R$ is\n",
    "\n",
    "1. $a$ for some $a$ in the alphabet $\\Gamma$\n",
    "2. $(R_1 \\circ R_2)$, where $R_1$ and $R_2$ are regular expressions\n",
    "\n",
    "Note: there are other ways of $R$ being a regular expression but for this case we are only concerned with these two.\n",
    "\n",
    "We can then write $w = w_1 \\circ w_2 \\circ ... \\circ w_n$\n",
    "\n",
    "Now, say $R_1 = w_1, R_2 = w_2, ... , R_n = w_n$. Condition 1 tells us that for $i=1,2,...,n$, $R_i$ is a regular language. \n",
    "\n",
    "By a simple induction we then prove that $R_1 \\circ R_2 \\circ ... \\circ R_n$ is also regular for $n\\geq 2$:\n",
    "\n",
    "1. __Base__: $R_1 \\circ R_2$ is regular (this is true by condition 2)\n",
    "2. __Hypothesis__: for $n \\leq k$ let's assume that $R_1 \\circ R_2 \\circ ... \\circ R_n$ is regular\n",
    "\n",
    "__Inductive step__: We need to prove that $R_1 \\circ R_2 \\circ ... \\circ R_n \\circ R_{n+1}$ is also regular. Using the hypothesis we know that $R_1 \\circ R_2 \\circ ... \\circ R_n = R$ is regular. Then, by condition 2, $R \\circ R_{n+1}$ is also regular. And the induction is proven.\n",
    "\n",
    "This means that $w = w_1 \\circ w_2 \\circ ... \\circ w_n = R_1 \\circ R_2 \\circ ... \\circ R_n$ is a regular expression.\n",
    "\n",
    "---\n",
    "\n",
    "Let's proceed to build $G$ as follows. $G = (Q',\\Gamma, \\delta', q_{start}, q_{accept})$, where\n",
    "\n",
    "1. $Q' = Q \\cup \\{ q_{start}, q_{accept} \\}$\n",
    "2. \n",
    "    \n",
    "    - $\\delta'(q_i,q_j) = f(a)$ if and only if $\\delta(q_i,a) = q_j$, where $a \\in \\Sigma, \\ q_i,q_j \\in Q$ (This is valid because lemma 1 tells us that $f(a)$ is a regular expression as it is a finite string over the alphabet $\\Gamma$, so $f(a)$ does belong to the collection of all regular expressions over the alphabet $\\Gamma$)\n",
    "    - $\\delta'(q_{start},q_0)=\\varepsilon$\n",
    "    - $\\delta'(q_i,q_{accept})=\\varepsilon$ if and onli if $q_i \\in F$\n",
    "    \n",
    "If we prove that $G$ accepts $B=f(A)$, then we can use the procedure CONVERT(G) and we would get a regular expression equivalent to $G$ (claim 1.65), and therefore proving that the language accepted by $G$ is described by a regular expression, thus making it a regular language, too. \n",
    "\n",
    "To prove that $G$ accepts $B$ we will use the formal definition of a computation for DFAs and GNFAs:\n",
    "\n",
    "---\n",
    "\n",
    "_Computation DFA_:\n",
    "\n",
    "A DFA $M$ accepts $w = w_1w_2...w_n$ where $w_i \\in \\Sigma$ (alphabet of $M$)  if there exists a sequence of states $r_0,r_1,...,r_n \\in Q$ such that:\n",
    "\n",
    "1. $r_0=q_0$\n",
    "2. $(r_i,w_{i+1})=r_{i+1}$ for $i=0,1,...,n-1$\n",
    "3. $r_n \\ ϵ \\ F$\n",
    "\n",
    "---\n",
    "\n",
    "_Computation GNFA_:\n",
    "\n",
    "A GNFA $G$ accepts a string $y \\in \\Gamma^*$ if $y = y_1y_2...y_k$ where each $y_i \\in \\Gamma^*$ and a sequence of states $s_0,s_1,...,s_k$ exists such that\n",
    "\n",
    "1. $s_0 = q_{start}$\n",
    "2. $s_k = q_{accept}$\n",
    "3. for each $i$, we have $y_i \\in L(R_i)$, where $R_i = \\delta(s_{i-1},s_i)$, in other words, $R_i$ is the expression on the arrow from $s_{i-1}$ to $s_i$\n",
    "\n",
    "---"
   ]
  },
  {
   "cell_type": "markdown",
   "metadata": {},
   "source": [
    "Let's consider a string $y = f(w) \\in B$ where $w = w_1w_2...w_n \\in A$. Given the formal defintion of computation for DFAs, we know that there exists a sequence $r_0,r_1,...,r_n$ of states in $M$ such that the three conditions in the formal definition are satisfied.\n",
    "\n",
    "Let's now consider the sequence of states in $G$: $s_0,s_1,...,s_k = q_{start}, r_0, r_1, ..., r_n, q_{accept}$ ($k=n+2$). That is\n",
    "\n",
    "- $s_0 = q_{start}$\n",
    "- $s_{i+1} = r_i$ for $i=0,1,...,n$\n",
    "- $s_{k} = s_{n+2} = q_{accept}$\n",
    "\n",
    "We know, then, that $y$ is accepted if we can write it as $y=y_1y_2...y_k$ where $y_i \\in \\Gamma^*$ for $i=1,2,...,k=n+2$ and the three conditions in the computation of a GNFA are satisfied by our sequence. \n",
    "\n",
    "Let's write $y$ as $y = \\varepsilon \\ f(w_1) \\ f(w_2)...f(w_n)\\ \\varepsilon$, that is\n",
    "\n",
    "- $y_1 = \\varepsilon$\n",
    "- $y_{i+1} = f(w_i)$ for $i=1,2,...,n$. Given that the homorphism $f$ goes from $\\Sigma$ to $\\Gamma^*$ we can ensure that $y_{i+1} = f(w_i) \\in \\Gamma^*$.\n",
    "- $y_{n+2} = \\varepsilon$\n",
    "\n",
    "The first two conditions, by definition of the sequence, are satisfied. We then need to prove that for each $i = 1,2, ..., k=n+2$, we have $y_i \\in L(R_i)$, where $R_i = \\delta'(s_{i-1},s_i)$, in other words, $R_i$ is the expression on the arrow from $s_{i-1}$ to $s_i$"
   ]
  },
  {
   "cell_type": "markdown",
   "metadata": {},
   "source": [
    "__Proof__:\n",
    "\n",
    "1. $R_1 = \\delta'(s_0,s_1) = \\delta'(q_{start},r_0)$ and given the _Computation DFA_ we know $r_0 = q_0$, thus $R_1 = \\delta'(q_{start},q_0) = \\varepsilon$ by construction of $G$. Thus, we know that $y_1 = \\varepsilon \\in L(R_1) = L(\\varepsilon)$\n",
    "2. From _Computation DFA_, we know that $\\delta(r_{i-2},w_{i-1})=r_{i-1}$ for $i=2,3,...,n+1$. Given the construction of $G$, we know that $\\delta'(r_{i-2},r_{i-1}) = \\delta'(s_{i-1},s_i) = f(w_{i-1}) = y_i$. And we also had $R_i = \\delta'(s_{i-1},s_i)$, which proves $y_i \\in L(R_i) = L(y_i)$ \n",
    "3. Finally $R_{n+2} = \\delta'(s_{n+1},s_{n+2}) = \\delta'(r_n,q_{accept})$, and from _Computation DFA_ we have $r_n \\ ϵ \\ F$, which means that, by construction of $G$, $\\delta'(r_n,q_{accept}) = \\varepsilon = R_{n+2}$. Therefore, $y_{n+2} = \\varepsilon \\in L(R_{n+2}) = L(\\varepsilon)$. \n",
    "\n",
    "We have now proven that $G$ accepts any string $f(w)$ where $w \\in A$, thus $G$ accepts $f(A) = B$, showing that $B$ is a regular language. This concludes the proof that the class of regular languages is closed under a homorphism."
   ]
  },
  {
   "cell_type": "markdown",
   "metadata": {},
   "source": [
    "## 2 Automata and Context Free Grammars.\n",
    "\n",
    "### 1.\n",
    "\n",
    "$$ (+\\cup-\\cup\\varepsilon)(D^+\\cup D^+.D^*\\cup D^*.D^+) $$\n",
    "\n",
    "$D = 0,1,2,3,4,5,6,7,8,9$\n",
    "\n"
   ]
  },
  {
   "cell_type": "markdown",
   "metadata": {},
   "source": [
    "Let's build our NFA using the procedure given in Lemma 1.55 but making simplifications along the way:\n",
    "\n",
    "### $+$\n",
    "<img src=\"sd1.png\" alt=\"Drawing\" style=\"width: 200px;\"/>"
   ]
  },
  {
   "cell_type": "markdown",
   "metadata": {},
   "source": [
    "### $-$\n",
    "<img src=\"sd2.png\" alt=\"Drawing\" style=\"width: 200px;\"/>"
   ]
  },
  {
   "cell_type": "markdown",
   "metadata": {},
   "source": [
    "### $\\varepsilon$\n",
    "<img src=\"sd3.png\" alt=\"Drawing\" style=\"width: 100px;\"/>"
   ]
  },
  {
   "cell_type": "markdown",
   "metadata": {},
   "source": [
    "### $.$\n",
    "<img src=\"sd4.png\" alt=\"Drawing\" style=\"width: 200px;\"/>"
   ]
  },
  {
   "cell_type": "markdown",
   "metadata": {},
   "source": [
    "### $D$\n",
    "<img src=\"sd5.png\" alt=\"Drawing\" style=\"width: 200px;\"/>"
   ]
  },
  {
   "cell_type": "markdown",
   "metadata": {},
   "source": [
    "### $D^*$\n",
    "<img src=\"sd6.png\" alt=\"Drawing\" style=\"width: 300px;\"/>\n",
    "\n",
    "which can be simplified as \n",
    "\n",
    "<img src=\"sd7.png\" alt=\"Drawing\" style=\"width: 170px;\"/>"
   ]
  },
  {
   "cell_type": "markdown",
   "metadata": {},
   "source": [
    "### $D^+ = D^*D$\n",
    "<img src=\"sd8.png\" alt=\"Drawing\" style=\"width: 400px;\"/>\n",
    "which can be simplified as\n",
    "<img src=\"sd9.png\" alt=\"Drawing\" style=\"width: 300px;\"/>"
   ]
  },
  {
   "cell_type": "markdown",
   "metadata": {},
   "source": [
    "### $(+\\cup-\\cup\\varepsilon)$\n",
    "<img src=\"sd10.png\" alt=\"Drawing\" style=\"width: 300px;\"/>\n",
    "which can be simplified as\n",
    "<img src=\"sd11.png\" alt=\"Drawing\" style=\"width: 100px;\"/>"
   ]
  },
  {
   "cell_type": "markdown",
   "metadata": {},
   "source": [
    "### $D^+.D^*$ \n",
    "\n",
    "(Getting rid of the intermediate states with only $\\varepsilon-$labeled arrows:\n",
    "\n",
    "<img src=\"SD12.png\" alt=\"Drawing\" style=\"width: 400px;\"/>"
   ]
  },
  {
   "cell_type": "markdown",
   "metadata": {},
   "source": [
    "### $D^*.D^+$ \n",
    "\n",
    "(Getting rid of the intermediate states with only $\\varepsilon-$labeled arrows:\n",
    "\n",
    "<img src=\"sd13.png\" alt=\"Drawing\" style=\"width: 400px;\"/>"
   ]
  },
  {
   "cell_type": "markdown",
   "metadata": {},
   "source": [
    "### $(D^+\\cup D^+.D^*\\cup D^*.D^+)$\n",
    "\n",
    "<img src=\"sd14.png\" alt=\"Drawing\" style=\"width: 400px;\"/>"
   ]
  },
  {
   "cell_type": "markdown",
   "metadata": {},
   "source": [
    "And Finally, concatenating the last two and eliminating the intermediate state with the single $\\varepsilon-$labeled arrow \n",
    "\n",
    "### $ (+\\cup-\\cup\\varepsilon)(D^+\\cup D^+.D^*\\cup D^*.D^+) $\n",
    "\n",
    "<img src=\"sd15.png\" alt=\"Drawing\" style=\"width: 400px;\"/>"
   ]
  },
  {
   "cell_type": "markdown",
   "metadata": {},
   "source": [
    "However, with a little bit of analysis of the form of the regular expression, one can build the following automata that recognizes the language described by $ (+\\cup-\\cup\\varepsilon)(D^+\\cup D^+.D^*\\cup D^*.D^+) $ with only 5 states.\n",
    "\n",
    "### $M_{b1}$\n",
    "<img src=\"Mb1.png\" alt=\"Drawing\" style=\"width: 600px;\"/>"
   ]
  },
  {
   "cell_type": "markdown",
   "metadata": {},
   "source": [
    "We can see that the language described by the given regular expression is such that it has to have at least one element of $D$ and the symbols $+,-$ at the beginning are optional and so is the $.$ at any part of the string that is not before a $+,-$ symbol. $M_{b1}$ covers this language by starting at $q_0$ and then having $q_1$ which is the state that represents that the string begins with a $+,-$ (otherwise it will stay at $q_0$ which is where the machine will be when the sign symbol is not part of the string), and then the string either starts with a $.$ (state $q_3$) or it starts with a number in $D$ (state $q_2$). In case it starts with a number, then the string is accepted as long as the rest of the string is composed by numbers in $D$ and at most one $.$ (if it encounters a $.$ it moves to state $q_4$ in which no more $.$ are allowed or else the machine dies). If the machine started with a $.$ before any numbers ($q_3$) then it has to have at least one number after it (in that case it moves to $q_4$) or else it dies or stays at $q_3$ which is not an accept state."
   ]
  },
  {
   "cell_type": "markdown",
   "metadata": {},
   "source": [
    "#### (b)\n",
    "\n",
    "Say that $D = \\{ 0,1,2,3,4,5,6,7,8,9 \\}$\n",
    "\n",
    "Givent the last state siagram with 5 states we define \n",
    "\n",
    "$$M_{b1} = (Q,\\Sigma, \\delta_{b1}, q_0, F_{b1})$$ where \n",
    "\n",
    "- $Q = \\{q_{0},q_{1},q_{2},q_{3},q_{4},q_{5}\\}$\n",
    "\n",
    "\n",
    "- $\\Sigma = D \\cup \\{ ., +, - \\} = \\{0,1,2,3,4,5,6,7,8,9,.,+,-\\}$\n",
    "\n",
    "\n",
    "- $\\delta: Q \\times \\Sigma_{\\varepsilon} \\rightarrow P(Q)$ is such that: (_Note that characters are goign to be surrounded by \"\" to avoid confusions, i.e $a$ is a variable and $\"a\"$ is a character_)\n",
    "\n",
    "    - $\\delta_{b1}(q_0,+) = \\delta_{b1}(q_0,-) = \\{q_1\\}$, $\\delta_{b1}(q_0,a) = \\{q_2\\}$ for $a \\in D$ and $\\delta_{b1}(q_0,.) = \\{q_3\\}$ for $a$\n",
    "    - $\\delta_{b1}(q_1,a) = \\{q_2\\}$ for $a \\in D$, $\\delta_{b1}(q_1,.) = \\{q_3\\}$ and $\\delta_{b1}(q_1,+) = \\delta_{b1}(q_1,-) = \\emptyset$\n",
    "    - $\\delta_{b1}(q_2,a) = \\{q_2\\}$ for $a \\in D$, $\\delta_{b1}(q_2,.) = \\{q_4\\}$ and $\\delta_{b1}(q_2,+) = \\delta_{b1}(q_2,-) = \\emptyset$\n",
    "    - $\\delta_{b1}(q_3,a) = \\{q_4\\}$ for $a \\in D$ and $\\delta_{b1}(q_3,a) = \\emptyset$ for $a \\notin D$\n",
    "    - $\\delta_{b1}(q_4,a) = \\{q_4\\}$ for $a\\in D$ and $\\delta_{b1}(q_4,a) = \\emptyset$ for $a \\notin D$\n",
    "   \n",
    "- $F_{b1} = \\{q_2,q_4\\}$"
   ]
  },
  {
   "cell_type": "markdown",
   "metadata": {},
   "source": [
    "### 2.\n",
    "\n",
    "#### (a)\n",
    "\n",
    "For simplicity, we the arrows labeled with a $D$ represent all the possibilities: $0,1,2,3,4,5,6,7,8,9$, the arrows labeled with a $\\Lambda$ represent the possibilities: $A,a,B,b,...,Z,z$, and the arrows labeled with a $\\Omega$ represent the possibilities: $>,=,<,>=,<=$\n",
    "\n",
    "<img src=\"Mb2.png\" alt=\"Drawing\" style=\"width: 600px;\"/>"
   ]
  },
  {
   "cell_type": "markdown",
   "metadata": {},
   "source": [
    "#### (b)\n",
    "\n",
    "Let's say that $\\Lambda = \\{ A,a,B,b,...,Z,z \\}$ and $\\Omega= \\{>,=,<,>=, <= \\}$\n",
    "\n",
    "Now, the regular expression that describes the language of the strings of the form:\n",
    "\n",
    "$$< variable > \\epsilon < condition >$$\n",
    "\n",
    "is simply \n",
    "\n",
    "$$\\Lambda \\Omega$$\n",
    "\n",
    "This is clear because $ < variable > $ and $ < condition > $ are single characters that can be represented by $\\Lambda$ and $\\Omega$, and these two are concatenated with $\\Sigma_1$ coming first.\n",
    "\n",
    "Now, the language given by strings of the form:\n",
    "\n",
    "$$< variable > \\epsilon < condition > \\epsilon < token > \\epsilon$$\n",
    "\n",
    "can be expressed as the concatenation of the language given by strings of the form \n",
    "\n",
    "$$< variable > \\epsilon < condition >$$\n",
    "\n",
    "concatenated with the language given by strings of the form\n",
    "\n",
    "$$\\epsilon < token > \\epsilon$$\n",
    "\n",
    "Thus, the regular expression for this combination is described by the concatenation of the regular expressions that describe each of the two sublanguages.\n",
    "\n",
    "The first of these two regular expressions we found was $\\Lambda \\Omega$, and, given that $ < token > $ is a string of numbers in the regular language of $M_{b1}$, we have that the second regular expression is $ (+\\cup-\\cup\\varepsilon)(D^+\\cup D^+.D^*\\cup D^*.D^+) $. Thus, the regular expression that describes the language recognized by $M_{b2}$ is\n",
    "\n",
    "$$\\Lambda \\Omega(+\\cup-\\cup\\varepsilon)(D^+\\cup D^+.D^*\\cup D^*.D^+)$$"
   ]
  },
  {
   "cell_type": "markdown",
   "metadata": {},
   "source": [
    "#### (c)\n",
    "\n",
    "$M_{b2} = (T,\\Gamma, \\delta_{b2}, p_0, F_{b2})$\n",
    "\n",
    "\n",
    "- $T = \\{p_{0},p_{1},q_{0},q_{1},q_{2},q_{3},q_{4},q_{5}\\}$\n",
    "\n",
    "\n",
    "- $\\Gamma = \\Lambda \\cup \\Omega \\cup \\Sigma$\n",
    "\n",
    "\n",
    "- $\\delta_{b2}: T \\times \\Gamma_{\\varepsilon} \\rightarrow P(T)$ is such that:\n",
    "    \n",
    "    - $\\delta_{b2}(p_0,a) = \\{p_1\\}$ for $a \\in \\Lambda$ and $\\delta_{b2}(p_0,a) = \\emptyset$ for $a \\notin \\Lambda$\n",
    "    - $\\delta_{b2}(p_1,a) = \\{q_0\\}$ for $a \\in \\Omega$ and $\\delta_{b2}(p_1,a) = \\emptyset$ for $a \\notin \\Omega$\n",
    "    - $\\delta_{b2}(q_0,+) = \\delta_{21}(q_0,-) = \\{q_1\\}$, $\\delta_{b2}(q_0,a) = \\{q_2\\}$ for $a \\in D$ and $\\delta_{b2}(q_0,.) = \\{q_3\\}$ for $a$\n",
    "    - $\\delta_{b2}(q_1,a) = \\{q_2\\}$ for $a \\in D$, $\\delta_{b2}(q_1,.) = \\{q_3\\}$ and $\\delta_{b2}(q_1,+) = \\delta_{b2}(q_1,-) = \\emptyset$\n",
    "    - $\\delta_{b1}(q_2,a) = \\{q_2\\}$ for $a \\in D$, $\\delta_{b2}(q_2,.) = \\{q_4\\}$ and $\\delta_{b2}(q_2,+) = \\delta_{b2}(q_2,-) = \\emptyset$\n",
    "    - $\\delta_{b2}(q_3,a) = \\{q_4\\}$ for $a \\in D$ and $\\delta_{b2}(q_3,a) = \\emptyset$ for $a \\notin D$\n",
    "    - $\\delta_{b2}(q_4,a) = \\{q_4\\}$ for $a\\in D$ and $\\delta_{b2}(q_4,a) = \\emptyset$ for $a \\notin D$\n",
    "\n",
    "   \n",
    "- $F_{b2} = \\{q_2,q_4\\}$"
   ]
  },
  {
   "cell_type": "markdown",
   "metadata": {},
   "source": [
    "### 3.\n",
    "\n",
    "$M_B$ is an automaton that accepts strings of the form:\n",
    "\n",
    "__If__ $\\varepsilon < condition\\_expression > \\varepsilon $ __then__ $\\varepsilon < expression > \\varepsilon$ __endif__ $\\varepsilon$\n",
    "\n",
    "- $< condition\\_expression >$ is a string accepted by $M_{b2}$\n",
    "- $< expression >$ is a string of the form $ <variable> \\ = \\ <token> $ where $ <variable> $ and $ < token > $ are defined as in the previous automatas\n",
    "\n",
    "\n",
    "#### (a)\n",
    "\n",
    "We can observe that the language given by $< condition\\_expression >$ is equivalent to the strings accepted by $M_{b2}$ (by definition), and the language $< expression >$ is the concatenation of the language given by a variable in $\\Lambda$, the language given by the symbol $=$, and the language given by strings that are accepted by $M_b1$. We simply need to concatenate, using the procedure given by Lemma 1.55 (getting rid of the useless states with only $\\varepsilon-$labeled arrows), the state diagrams of all these sublanguages to get the state diagram of $M_{b2}$\n",
    "\n",
    "<img src=\"Mbb.png\" alt=\"Drawing\" style=\"width: 600px;\"/>\n",
    "\n",
    "#### (b)\n",
    "\n",
    "As we did for the state diagram, for the regular expression we will divide the strings of our language into the concatenation of strings of other sublanguages for which we know the regular expressions that describe them and then we will concatenate these regular expressions to write the regular expression that describes the language recognized by $M_B$\n"
   ]
  },
  {
   "cell_type": "markdown",
   "metadata": {},
   "source": [
    "- The language that accepts strings of the form __If__ is clearly described by the regular expression: __If__\n",
    "\n",
    "- The language that accepts strings of the form $ < condition\\_expression > $ we know is the regular expression for $M_{b2}$: $\\Lambda \\Omega(+\\cup-\\cup\\varepsilon)(D^+\\cup D^+.D^*\\cup D^*.D^+)$\n",
    "\n",
    "- The language that accepts strings of the form __then__ is described by the regular expression: __then__\n",
    "\n",
    "- The language that accepts strings of the form $ < expression > $ which is $ <variable> \\ = \\ <token>$ can also be subdivided into the concatenation of these three sublanguages \n",
    "    - the language that accepts strings of the form $ <variable> $ is described by the regular expression: $\\Lambda$\n",
    "    - the language that accepts strings of the form $ = $ is described by the regular expression: $ = $\n",
    "    - the language that accepts strings of the form $ <token> $ is, as seen previously, described by the regular expression for $M_{b1}$: $ (+\\cup-\\cup\\varepsilon)(D^+\\cup D^+.D^*\\cup D^*.D^+) $\n",
    "    \n",
    "    Therefore, the regular expression that describes this language is: $ \\Lambda = (+\\cup-\\cup\\varepsilon)(D^+\\cup D^+.D^*\\cup D^*.D^+) $\n",
    "    \n",
    "- The language that accepts string of the form __endif__ is described by the regular expression: __endif__\n",
    "\n",
    "Finally, the concatenation of the regular expressions of these sublanguages will give us the regular expression for $M_B$:\n",
    "\n",
    "__If__ $\\Lambda \\Omega(+\\cup-\\cup\\varepsilon)(D^+\\cup D^+.D^*\\cup D^*.D^+)$ __then__ $ \\Lambda = (+\\cup-\\cup\\varepsilon)(D^+\\cup D^+.D^*\\cup D^*.D^+) $ __endif__"
   ]
  },
  {
   "cell_type": "markdown",
   "metadata": {},
   "source": [
    "#### (c)\n",
    "\n",
    "$M_{B} = (S,\\Gamma, \\delta_{B}, s_0, F_{B})$\n",
    "\n",
    "\n",
    "- $S = \\{s_0,s_1,s_2,s_3,p_0,p_1,q_0,q_1,q_2,q_3,q_4,q'_0,q'_1,q'_2,q'_3,q'_4\\}$\n",
    "\n",
    "\n",
    "- $\\delta_{B}: S \\times \\Gamma_{\\varepsilon} \\rightarrow P(S)$ is such that:\n",
    "\n",
    "    - $\\delta_{B}(s_0,a) = \\{p_0\\}$ for $a=$ \"__If__\" and $\\delta_{B}(s_0,a) = \\emptyset$ for $a \\neq \"If\"$\n",
    "    - $\\delta_{b2}(p_0,a) = \\{p_1\\}$ for $a \\in \\Lambda$ and $\\delta_{b2}(p_0,a) = \\emptyset$ for $a \\notin \\Lambda$\n",
    "    - $\\delta_{b2}(p_1,a) = \\{q_0\\}$ for $a \\in \\Omega$ and $\\delta_{b2}(p_1,a) = \\emptyset$ for $a \\notin \\Omega$\n",
    "    - $\\delta_{b2}(q_0,+) = \\delta_{b2}(q_0,-) = \\{q_1\\}$, $\\delta_{b2}(q_0,a) = \\{q_2\\}$ for $a \\in D$, $\\delta_{b2}(q_0,.) = \\{q_3\\}$, and $\\delta_{b2}(q_0,a) = \\emptyset$ for $a \\in \\Lambda \\cup \\Omega$\n",
    "    - $\\delta_{b2}(q_1,a) = \\{q_2\\}$ for $a \\in D$, $\\delta_{b2}(q_1,.) = \\{q_3\\}$ and $\\delta_{b2}(q_1,a) = \\emptyset$ for $a \\notin D \\cup .$\n",
    "    - $\\delta_{b1}(q_2,a) = \\{q_2\\}$ for $a \\in D$, $\\delta_{b2}(q_2,.) = \\{q_4\\}$ and $\\delta_{b2}(q_2,a) = \\emptyset$ for $a \\notin D \\cup . \\cup \\{ $__then__$ \\}$\n",
    "    - $\\delta_{b2}(q_3,a) = \\{q_4\\}$ for $a \\in D$ and $\\delta_{b2}(q_3,a) = \\emptyset$ for $a \\notin D$\n",
    "    - $\\delta_{b2}(q_4,a) = \\{q_4\\}$ for $a\\in D, \\delta_{b2}(q_4,a) = \\{s_1\\}$ for $a =$__then__  and $\\delta_{b2}(q_4,a) = \\emptyset$ for $a \\neq $ \"__then__\" and $a \\notin D$\n",
    "    - $\\delta_{B}(s_1,a) = \\{s_2 \\}$ for $a \\in \\Lambda$ and $\\delta_{B}(s_1,a) = \\emptyset$ for $a \\notin \\Lambda$\n",
    "    - $\\delta_{B}(s_2,a) = \\{q'_0 \\}$ for $a = \"=\"$ and $\\delta_{B}(s_2,a) = \\emptyset$ for $a \\neq \"=\"$\n",
    "    ---\n",
    "    - $\\delta_{b2}(q'_0,+) = \\delta_{b2}(q'_0,-) = \\{q'_1\\}$, $\\delta_{b2}(q'_0,a) = \\{q'_2\\}$ for $a \\in D$, $\\delta_{b2}(q'_0,.) = \\{q'_3\\}$, and $\\delta_{b2}(q'_0,a) = \\emptyset$ for $a \\in \\Lambda \\cup \\Omega$\n",
    "    - $\\delta_{b2}(q'_1,a) = \\{q'_2\\}$ for $a \\in D$, $\\delta_{b2}(q'_1,.) = \\{q'_3\\}$ and $\\delta_{b2}(q'_1,a) = \\emptyset$ for $a \\notin D \\cup .$\n",
    "    - $\\delta_{b1}(q'_2,a) = \\{q'_2\\}$ for $a \\in D$, $\\delta_{b2}(q'_2,.) = \\{q'_4\\}$, $\\delta_{b2}(q'2,a)=\\{s_3\\}$ for $a=$ __endif__, and $\\delta_{b2}(q'_2,a) = \\emptyset$ for $a \\notin D \\cup . \\cup \\{$ __endif__ $\\}$\n",
    "    - $\\delta_{b2}(q'_3,a) = \\{q'_4\\}$ for $a \\in D$ and $\\delta_{b2}(q'_3,a) = \\emptyset$ for $a \\notin D$\n",
    "    - $\\delta_{b2}(q'_4,a) = \\{q'_4\\}$ for $a\\in D, \\delta_{b2}(q'_4,a) = \\{s_1\\}$ for $a =$ __endif__  and $\\delta_{b2}(q'_4,a) = \\emptyset$ for $a \\neq$ \"__endif__\" and $a \\notin D$\n",
    "    - $\\delta_{b2}(s_3,a)=\\emptyset$ for all a\n",
    "    \n",
    "    \n",
    "\n",
    "   \n",
    "- $F_{B} = \\{s_3\\}$\n",
    "\n",
    "We can then define the language of $M_{B}$ as \n",
    "\n",
    "<center> $L(M_{B}) = \\{ s_1v_1ct_1s_2v_2s_3t_2s_4 | s_1 =$'If', $s_2 =$ 'then', $s_3 =$ '=', $s_4 =$ 'endif', $v_1$ and $v_2 \\in \\Lambda,$ </center> <center> $c \\in {>,=,<,>=,<=}$, and $t_1$ and $t_2 \\in L(M_{b1})\\}$  </center>"
   ]
  },
  {
   "cell_type": "markdown",
   "metadata": {},
   "source": [
    "### 4. $M_b$ Python simulator\n",
    "\n",
    "#### (a) \n",
    "\n",
    "In separate file\n",
    "\n",
    "#### (b)\n",
    "\n",
    "The Python simulator adds an accepting thread to a list `accepting_threads` whenever it reaches and accept state and it is the end of the input. The machine will accept the input if the list has at least one element, else it will reject it."
   ]
  },
  {
   "cell_type": "markdown",
   "metadata": {},
   "source": [
    "__If__ $\\Lambda \\Omega(+\\cup-\\cup\\varepsilon)(D^+\\cup D^+.D^*\\cup D^*.D^+)$ __then__ $ \\Lambda = (+\\cup-\\cup\\varepsilon)(D^+\\cup D^+.D^*\\cup D^*.D^+) $ __endif__"
   ]
  },
  {
   "cell_type": "markdown",
   "metadata": {},
   "source": [
    "### 5 CFG equivalent to $M_b$\n",
    "\n",
    "#### (a)\n",
    "\n",
    "$E$ is the CFG that generates the language recognized by $M_B$. Let's define $E$ as follows\n",
    "\n",
    "$$E = (V,\\Psi,R,S)$$\n",
    "\n",
    "1. V =\n",
    "2. $\\Sigma = \\{$__if__, __then__, __endif__,$\\} \\cup \\Lambda \\cup \\Omega \\cup D \\cup \\{+,-,.\\}$ where $\\Lambda, \\Omega,$ and $D$ are defined as before.\n",
    "3. $R$ is as follows (where $S$ is the start variable): _(note: we use '' around upper case letters for terminals to distingush them from variables)_\n",
    "    <center> $S \\rightarrow$ __If__ $A$ __then__ $L = B$ __endif__ </center>\n",
    "    <center> $A \\rightarrow LOSN$  </center>\n",
    "    <center> $B \\rightarrow SN$  </center>\n",
    "    <center> $L \\rightarrow$ '$a$' | '$A$' | '$b$' | '$B$' | ... | '$z$' | '$Z$'  </center>\n",
    "    <center> $O \\rightarrow > | < | = | <= | >= $  </center>\n",
    "    <center> $S \\rightarrow + | - | \\epsilon$  </center>\n",
    "    <center> $N \\rightarrow DF | DF.D | D.FD $  </center>\n",
    "    <center> $D \\rightarrow DF | \\epsilon $  </center>\n",
    "    <center> $F \\rightarrow 0 | 1 | ... | 9$  </center>"
   ]
  },
  {
   "cell_type": "markdown",
   "metadata": {},
   "source": [
    "#### (b)\n",
    "\n",
    "The strings in $L(M_B)$ need to be of the form __If__ $ < condition\\_expression > $ __then__ $ < variable > = < token > $ __endif__$. The start rule ensures that this happens.\n",
    "\n",
    "Now for $A$ we need the substring of terminals to be accepted by $M_{b2}$ and this happens if the string is of the form $\\Lambda \\Omega(+\\cup-\\cup\\varepsilon)(D^+\\cup D^+.D^*\\cup D^*.D^+)$. And for $B$ we want strings of the form $(+\\cup-\\cup\\varepsilon)(D^+\\cup D^+.D^*\\cup D^*.D^+)\n",
    "\n",
    "The second rule and third rule ensure that these structures are respected. $L$ represents the $\\Lambda$, $O$ represents the $\\Omega$, $S$ represents the sign of the symbol (which could be nonexistent), and $N$ represents numbers of the form $(D^+\\cup D^+.D^*\\cup D^*.D^+)$. It is clear that the fourth, fifth, and sixth rows of rules make sure that the structure for $L,O,S$ are correct.\n",
    "\n",
    "For $N$ because we want the substring to have at least one number (represented by the $F$ variable), the seventh row of rules covers the cases in which there is no decimal point , when there is a decimal point and there is necessarily one number before , and when there is a decimal point and there is necessarily one number after. In each of these cases we add $D$ variables next to the $F$ variable, and after or before the decimal point (depending on the case) to allow for making the number as long as we want. This last part is possible by the rules in the eighth row (where we also have the rule $D \\rightarrow \\epsilon$ to stop adding numbers whenever we want). Finally the last row of rules ensures that the $F$ is substituted by a number.\n",
    "\n",
    "#### (c)\n",
    "\n",
    "We know that finite automatons can be converted into DFAs. Once we have a DFA, we can build a CFG that generates strings accepted by the DFA. The way to do this is by making a variable $R_i$ for each state qi of the DFA. Then we add the rule $R_i → aR_j$ to the CFG if $δ(q_i,a) = q_j$ is a transition in the DFA. We also add the rule $R_i → ε$ if $q_i$ is an accept state of the DFA. We make $R_0$ the start variable of the grammar, where $q_0$ is the start state of the machine.\n",
    "\n",
    "Because the right hand side of all the rules are $\\epsilon$ or of the form $aR_j$, where $a$ is a terminal and $R_j$ is a variable, then at any point in the derivation we will have a string of the form $xv$ where $x$ is made up of only terminal symbols and $v$ is made up of at most one variable. If there is at least one variable in the string, namely $R_i$, whatever string of terminals is to the left of that string, if given as input to the DFA, would take us to state $q_i$. This easily proven by induction on the length of the string $k\\geq1$ (remember the string has at least one variable):\n",
    "\n",
    "- Base: if the string is of the form $R_i$, then this has to be $R_0$ as any other variable can only be gotten if there was a substitution that involves at least one terminal. Here, the input to the left would be the empty string, thus the DFA given the empty string would indeed be at $q_0$\n",
    "- Hypothesis: if the string $xR_i$ has length $k=n$ then when the DFA receives $x$ as input, it will be at state $R_i$ after reading it entirely.\n",
    "- Inductive step: if the string $zR_j$ has length $k=n+1$ we want to prove that when DFA receives $z$, it goes to state $R_j$ after reading the input. If the last substitution before getting to $zR_j$ was given by the rule $R_i → aR_j$, then we use the hypothesis to know that when DFA receives $z[:-1]$ it ends at state $q_i$ and given that the rule $R_i → aR_j$ is only in the grammar when $δ(q_i,a) = q_j$, when the machine reads $a$ it will move from $q_i$ to $q_j$.\n",
    "    \n",
    "Now, whenever a string generated by the grammar only has terminals, the previous step was having a string of the form $xR_i$ and we have proven that when the machine is given $x$ as input, it ends at state $q_i$, and the final step to make the string of only terminals is by using the rule $R_i → ε$, but we know that this rule only exists if $q_i$ is an accept state of the DFA, thus when the machine reads $x$, it will accept it.\n",
    "\n",
    "Now, for the other way around, we can simply consider the grammar given by the rules\n",
    "\n",
    "\n",
    "$$ S → S_1 | S_2 $$ $$S_1 →0S_11|ε $$ $$S_2 →1S_20|ε$$\n",
    "\n",
    "This grammar generates the language $\\{ 0^n1^n | n\\geq 0\\}$ which as we have seen cannot be equivalent to any FA as it would require some sort of memory storage to keep track of the number of $0$'s read to match it with the number of $1$'s."
   ]
  }
 ],
 "metadata": {
  "kernelspec": {
   "display_name": "Python 2",
   "language": "python",
   "name": "python2"
  },
  "language_info": {
   "codemirror_mode": {
    "name": "ipython",
    "version": 2
   },
   "file_extension": ".py",
   "mimetype": "text/x-python",
   "name": "python",
   "nbconvert_exporter": "python",
   "pygments_lexer": "ipython2",
   "version": "2.7.15"
  }
 },
 "nbformat": 4,
 "nbformat_minor": 2
}
