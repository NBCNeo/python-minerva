{
 "cells": [
  {
   "cell_type": "code",
   "execution_count": 10,
   "metadata": {},
   "outputs": [
    {
     "name": "stdout",
     "output_type": "stream",
     "text": [
      "C\n",
      "B\n",
      "A\n"
     ]
    }
   ],
   "source": [
    "def LCS_length(X,Y):\n",
    "    m = len(X)\n",
    "    n = len(Y)\n",
    "    b = [[None for _ in range(n)] for _ in range(m)]\n",
    "    c = [[0 for _ in range(n+1)] for _ in range(m+1)]\n",
    "    for i in range(1,m):\n",
    "        for j in range(1,n):\n",
    "            if X[i] == Y[j]:\n",
    "                c[i][j] = c[i-1][j-1] + 1\n",
    "                b[i][j] = 'nw'\n",
    "            elif c[i-1][j] >= c[i][j-1]:\n",
    "                c[i][j] = c[i-1][j]\n",
    "                b[i][j] = 'n'\n",
    "            else:\n",
    "                c[i][j] = c[i][j-1]\n",
    "                b[i][j] = 'w'\n",
    "    return (c,b)\n",
    "\n",
    "def print_LCS(b,X,i,j):\n",
    "    if i == 0 or j == 0:\n",
    "        return\n",
    "    if b[i][j] == 'nw':\n",
    "        print_LCS(b,X,i-1,j-1)\n",
    "        print(X[i])\n",
    "    elif b[i][j] == 'n':\n",
    "        print_LCS(b,X,i-1,j)\n",
    "    else:\n",
    "        print_LCS(b,X,i,j-1)\n",
    "\n",
    "A = 'ABCBDAB'\n",
    "B = 'BDCABA'\n",
    "\n",
    "b = LCS_length(A,B)[1]\n",
    "print_LCS(b,A,len(A)-1,len(B)-1)"
   ]
  },
  {
   "cell_type": "code",
   "execution_count": null,
   "metadata": {},
   "outputs": [],
   "source": []
  }
 ],
 "metadata": {
  "kernelspec": {
   "display_name": "Python 2",
   "language": "python",
   "name": "python2"
  },
  "language_info": {
   "codemirror_mode": {
    "name": "ipython",
    "version": 2
   },
   "file_extension": ".py",
   "mimetype": "text/x-python",
   "name": "python",
   "nbconvert_exporter": "python",
   "pygments_lexer": "ipython2",
   "version": "2.7.15"
  }
 },
 "nbformat": 4,
 "nbformat_minor": 2
}
