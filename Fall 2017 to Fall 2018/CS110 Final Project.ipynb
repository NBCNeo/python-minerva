{
 "cells": [
  {
   "cell_type": "markdown",
   "metadata": {},
   "source": [
    "### Functions\n",
    "\n",
    "#### Optimal tree - O(n^3) algorithm"
   ]
  },
  {
   "cell_type": "code",
   "execution_count": 20,
   "metadata": {},
   "outputs": [],
   "source": [
    "def optimal_tree(P, Q, n):\n",
    "    exp_table = [[None for i in range(n+1)] \n",
    "                  for j in range(n+1)]\n",
    "    weight_table = [[None for i in range(n+1)] \n",
    "                  for j in range(n+1)]\n",
    "    root_table = [[None for i in range(n)] for j in range(n)]\n",
    "    for x in range(n+1):\n",
    "        exp_table[x][x] = Q[x]\n",
    "        weight_table[x][x] = Q[x]\n",
    "    for y in range(n+1): \n",
    "        for i in range(n-y):\n",
    "            j = i + y + 1\n",
    "            exp_table[i][j] = float(\"inf\")\n",
    "            weight_table[i][j] = weight_table[i][j - 1] + P[j - 1] + Q[j]\n",
    "            for root in range(i, j):\n",
    "                t = exp_table[i][root] + exp_table[root + 1][j] + weight_table[i][j]\n",
    "                if t < exp_table[i][j]:\n",
    "                    exp_table[i][j] = t\n",
    "                    root_table[i][j - 1] = root\n",
    "    return (exp_table, root_table)"
   ]
  },
  {
   "cell_type": "markdown",
   "metadata": {},
   "source": [
    "#### Knuth optimal tree - O(n^2) algorithm"
   ]
  },
  {
   "cell_type": "code",
   "execution_count": 21,
   "metadata": {},
   "outputs": [],
   "source": [
    "def knuth_optimal_tree(P, Q, n):\n",
    "    exp_table = [[None for i in range(n+1)] \n",
    "                  for j in range(1, n+2)]\n",
    "    weight_table = [[None for i in range(n+1)] \n",
    "                  for j in range(1, n+2)]\n",
    "    root_table = [[None for i in range(n)] for j in range(n)]\n",
    "\n",
    "    for x in range(n + 1):\n",
    "        exp_table[x][x] = Q[x]\n",
    "        weight_table[x][x] = Q[x]\n",
    "\n",
    "    for y in range(n+1):\n",
    "        for i in range(n-y):\n",
    "            j = i + y + 1\n",
    "            exp_table[i][j] = float(\"inf\")\n",
    "            weight_table[i][j] = weight_table[i][j - 1] + P[j - 1] + Q[j]\n",
    "            l_index = i\n",
    "            r_index = j\n",
    "            if l_index + 1 != r_index:\n",
    "                l_index = root_table[i][j - 2]\n",
    "                r_index = root_table[i + 1][j - 1] + 1            \n",
    "            for root in range(l_index, r_index):\n",
    "                t = exp_table[i][root] + exp_table[root + 1][j] + weight_table[i][j]\n",
    "                if t < exp_table[i][j]:\n",
    "                    exp_table[i][j] = t\n",
    "                    root_table[i][j - 1] = root\n",
    "    return (exp_table, root_table)"
   ]
  },
  {
   "cell_type": "markdown",
   "metadata": {},
   "source": [
    "#### Worst case scenario optimal tree - O(n^3) algorithm"
   ]
  },
  {
   "cell_type": "code",
   "execution_count": 22,
   "metadata": {},
   "outputs": [],
   "source": [
    "def least_bribes(bribes):\n",
    "    n = len(bribes)\n",
    "    Q = [0 for _ in range(n+1)]\n",
    "    return find_optimal_tree_ordering(bribes, Q, n)[0][0][n]\n",
    "\n",
    "def worst_case_optimal_tree(P, Q, n):\n",
    "    #initialize 2D arrays\n",
    "    exp_table = [[None for i in range(n + 1)] \n",
    "                  for j in range(1, n + 2)]\n",
    "    weight_table = [[None for i in range(n + 1)] \n",
    "                  for j in range(1, n + 2)]\n",
    "    root_table = [[None for i in range(n)] for j in range(n)]\n",
    "    \n",
    "    for x in range(n + 1):\n",
    "        exp_table[x][x] = Q[x]\n",
    "        weight_table[x][x] = Q[x]\n",
    "\n",
    "    for y in range(n + 1): \n",
    "        for i in range(n - y):\n",
    "            j = i + y + 1\n",
    "            exp_table[i][j] = float(\"inf\")\n",
    "            weight_table[i][j] = weight_table[i][j - 1] + P[j - 1] + Q[j]\n",
    "            \n",
    "            for root in range(i, j):\n",
    "                t = P[root] + max(exp_table[i][root], exp_table[root + 1][j])\n",
    "                if t < exp_table[i][j]:\n",
    "                    exp_table[i][j] = t\n",
    "                    root_table[i][j - 1] = root\n",
    "\n",
    "    return (exp_table, root_table)"
   ]
  },
  {
   "cell_type": "markdown",
   "metadata": {},
   "source": [
    "#### Example from figure 15.9 (Cormen et. al) of the optimal tree "
   ]
  },
  {
   "cell_type": "code",
   "execution_count": 23,
   "metadata": {},
   "outputs": [
    {
     "name": "stdout",
     "output_type": "stream",
     "text": [
      "([[0.05, 0.45000000000000007, 0.9, 1.25, 1.75, 2.75], [None, 0.1, 0.4, 0.7, 1.2, 2.0], [None, None, 0.05, 0.25, 0.6, 1.2999999999999998], [None, None, None, 0.05, 0.30000000000000004, 0.9], [None, None, None, None, 0.05, 0.5], [None, None, None, None, None, 0.1]], [[0, 0, 1, 1, 1], [None, 1, 1, 1, 3], [None, None, 2, 3, 4], [None, None, None, 3, 4], [None, None, None, None, 4]])\n"
     ]
    }
   ],
   "source": [
    "P = [0.15,0.10,0.05,0.10,0.20]\n",
    "Q = [0.05,0.10,0.05,0.05,0.05,0.10]\n",
    "n = len(P)\n",
    "\n",
    "print(optimal_tree(P, Q, n))"
   ]
  },
  {
   "cell_type": "markdown",
   "metadata": {},
   "source": [
    "#### Expected search cost of the optimal tree"
   ]
  },
  {
   "cell_type": "code",
   "execution_count": 24,
   "metadata": {},
   "outputs": [
    {
     "name": "stdout",
     "output_type": "stream",
     "text": [
      "2.75\n"
     ]
    }
   ],
   "source": [
    "print(optimal_tree(P, Q, n)[0][0][5])"
   ]
  },
  {
   "cell_type": "code",
   "execution_count": 25,
   "metadata": {},
   "outputs": [
    {
     "name": "stdout",
     "output_type": "stream",
     "text": [
      "([[0.05, 0.45000000000000007, 0.9, 1.25, 1.75, 2.75], [None, 0.1, 0.4, 0.7, 1.2, 2.0], [None, None, 0.05, 0.25, 0.6, 1.2999999999999998], [None, None, None, 0.05, 0.30000000000000004, 0.9], [None, None, None, None, 0.05, 0.5], [None, None, None, None, None, 0.1]], [[0, 0, 1, 1, 1], [None, 1, 1, 1, 3], [None, None, 2, 3, 4], [None, None, None, 3, 4], [None, None, None, None, 4]])\n"
     ]
    }
   ],
   "source": [
    "print(knuth_optimal_tree(P, Q, n))"
   ]
  },
  {
   "cell_type": "markdown",
   "metadata": {},
   "source": [
    "#### Expected search cost of the optimal tree"
   ]
  },
  {
   "cell_type": "code",
   "execution_count": 26,
   "metadata": {},
   "outputs": [
    {
     "name": "stdout",
     "output_type": "stream",
     "text": [
      "2.75\n"
     ]
    }
   ],
   "source": [
    "print(knuth_optimal_tree(P, Q, n)[0][0][5])"
   ]
  },
  {
   "cell_type": "markdown",
   "metadata": {},
   "source": [
    "#### Solution for the example given by the instructions of the problem in the Kata https://www.codewars.com/kata/bribe-the-guards-of-the-crown-jewels/train/python\n",
    "\n",
    "#### roots"
   ]
  },
  {
   "cell_type": "code",
   "execution_count": 27,
   "metadata": {},
   "outputs": [
    {
     "name": "stdout",
     "output_type": "stream",
     "text": [
      "[0, 0, 1, 2, 3, 4, 5, 6, 5, 6]\n",
      "[None, 1, 1, 2, 3, 4, 5, 6, 5, 6]\n",
      "[None, None, 2, 2, 3, 4, 5, 6, 5, 6]\n",
      "[None, None, None, 3, 3, 4, 5, 6, 5, 6]\n",
      "[None, None, None, None, 4, 4, 5, 6, 7, 6]\n",
      "[None, None, None, None, None, 5, 5, 6, 7, 8]\n",
      "[None, None, None, None, None, None, 6, 6, 7, 8]\n",
      "[None, None, None, None, None, None, None, 7, 7, 8]\n",
      "[None, None, None, None, None, None, None, None, 8, 8]\n",
      "[None, None, None, None, None, None, None, None, None, 9]\n"
     ]
    }
   ],
   "source": [
    "bribes = [1,2,3,4,5,6,7,8,9,10]\n",
    "Q = [0 for _ in range(11)]\n",
    "for row in worst_case_optimal_tree(bribes,Q,10)[1]:\n",
    "    print(row)"
   ]
  },
  {
   "cell_type": "markdown",
   "metadata": {},
   "source": [
    "#### answer"
   ]
  },
  {
   "cell_type": "code",
   "execution_count": 19,
   "metadata": {},
   "outputs": [
    {
     "data": {
      "text/plain": [
       "26"
      ]
     },
     "execution_count": 19,
     "metadata": {},
     "output_type": "execute_result"
    }
   ],
   "source": [
    "worst_case_optimal_tree(bribes,Q,10)[0][0][10]"
   ]
  }
 ],
 "metadata": {
  "kernelspec": {
   "display_name": "Python 2",
   "language": "python",
   "name": "python2"
  },
  "language_info": {
   "codemirror_mode": {
    "name": "ipython",
    "version": 2
   },
   "file_extension": ".py",
   "mimetype": "text/x-python",
   "name": "python",
   "nbconvert_exporter": "python",
   "pygments_lexer": "ipython2",
   "version": "2.7.15"
  }
 },
 "nbformat": 4,
 "nbformat_minor": 2
}
