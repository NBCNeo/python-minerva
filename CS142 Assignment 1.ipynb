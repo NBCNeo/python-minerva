{
 "cells": [
  {
   "cell_type": "code",
   "execution_count": 20,
   "metadata": {},
   "outputs": [],
   "source": [
    "import threading\n",
    "\n",
    "# Simulation of N'\n",
    "\n",
    "def state_00(s):\n",
    "    tname = threading.currentThread().getName()\n",
    "    print('\\t',tname, 'enters state q00 with s=',s)\n",
    "    if len(s) == 0:\n",
    "        tname = threading.currentThread().getName()\n",
    "        print('******',tname, 'reached accept state q00 ***')\n",
    "        accepting_threads.append(tname)\n",
    "    else:\n",
    "        if s[0] in 'afg':\n",
    "            t1 = threading.Thread(target=state_00, args=[s[1:]])\n",
    "            threads.append(t1)\n",
    "            t1.start()\n",
    "\n",
    "            t2 = threading.Thread(target=state_10, args=[s[1:]])\n",
    "            threads.append(t2)\n",
    "            t2.start()\n",
    "        \n",
    "def state_11(s):\n",
    "    tname = threading.currentThread().getName()\n",
    "    print('\\t',tname, 'enters state q11 with s=',s)\n",
    "    if len(s) > 0:\n",
    "        if s[0] in 'bch':\n",
    "            t1 = threading.Thread(target=state_11, args=[s[1:]])\n",
    "            threads.append(t1)\n",
    "            t1.start()\n",
    "\n",
    "            t2 = threading.Thread(target=state_01, args=[s[1:]])\n",
    "            threads.append(t2)\n",
    "            t2.start()\n",
    "        if s[0]=='d':\n",
    "            state_10(s[1:])\n",
    "\n",
    "def state_10(s):\n",
    "    tname = threading.currentThread().getName()\n",
    "    print('\\t',tname, 'enters state q10 with s=',s)\n",
    "    if len(s) > 0:\n",
    "        if s[0] == 'd':\n",
    "            t1 = threading.Thread(target=state_01, args=[s[1:]])\n",
    "            threads.append(t1)\n",
    "            t1.start()\n",
    "\n",
    "            t2 = threading.Thread(target=state_11, args=[s[1:]])\n",
    "            threads.append(t2)\n",
    "            t2.start()\n",
    "        \n",
    "def state_01(s):\n",
    "    tname = threading.currentThread().getName()\n",
    "    print('\\t',tname, 'enters state q01 with s=',s)\n",
    "    if len(s) > 0:\n",
    "        if s[0]=='e':\n",
    "            t1 = threading.Thread(target=state_00, args=[s[1:]])\n",
    "            threads.append(t1)\n",
    "            t1.start()\n",
    "\n",
    "            t2 = threading.Thread(target=state_10, args=[s[1:]])\n",
    "            threads.append(t2)\n",
    "            t2.start()\n",
    "\n",
    "\n",
    "def N1(s):\n",
    "    n=len(s)\n",
    "    threads=[]\n",
    "    print('N1 computes input string',s)\n",
    "    print('\\t N1 spliting computation with input :',s,'in two branches')\n",
    "    t1 = threading.Thread(target=state_00, args=[s])\n",
    "    threads.append(t1)\n",
    "    t1.start()\n",
    "\n",
    "    t2 = threading.Thread(target=state_10, args=[s])\n",
    "    threads.append(t2)\n",
    "    t2.start()\n",
    "\n",
    "threads = []"
   ]
  },
  {
   "cell_type": "code",
   "execution_count": 21,
   "metadata": {},
   "outputs": [],
   "source": [
    "#Checking if a string s is part of the language B\n",
    "\n",
    "my_dict = {\n",
    "    'a':'000',\n",
    "    'b':'100',\n",
    "    'c':'010',\n",
    "    'd':'001',\n",
    "    'e':'110',\n",
    "    'f':'101',\n",
    "    'g':'011',\n",
    "    'h':'111',\n",
    "}\n",
    "\n",
    "def check_B(s):\n",
    "    t = ''\n",
    "    m = ''\n",
    "    b = ''\n",
    "    for ch in s:\n",
    "        t+=my_dict[ch][0]\n",
    "        m+=my_dict[ch][1]\n",
    "        b+=my_dict[ch][2]\n",
    "    \n",
    "    #converting binary strings to integers\n",
    "    T = int(t,2) \n",
    "    M = int(m,2)\n",
    "    B = int(b,2)\n",
    "    \n",
    "    print(t)\n",
    "    print(m)\n",
    "    print(b)\n",
    "    print('')\n",
    "    \n",
    "    return T+M == B \n",
    "\n",
    "def compare():\n",
    "    print('Accepted by N1: '+str(bool(accepting_threads)))\n",
    "    print('')\n",
    "    print('Belongs to the language B: ' + str(check_B(s)))"
   ]
  },
  {
   "cell_type": "markdown",
   "metadata": {},
   "source": [
    "### Examples of strings in B from the assignment instructions"
   ]
  },
  {
   "cell_type": "code",
   "execution_count": 22,
   "metadata": {},
   "outputs": [
    {
     "name": "stdout",
     "output_type": "stream",
     "text": [
      "('N1 computes input string', 'dbe')\n",
      "('\\t N1 spliting computation with input :', 'dbe', 'in two branches')\n",
      "('\\t', 'Thread-26', 'enters state q00 with s=', 'dbe')\n",
      "('\\t', 'Thread-27', 'enters state q10 with s=', 'dbe')\n",
      "\n",
      "('\\t', 'Thread-28', 'enters state q01 with s=', 'be')\n",
      "('\\t', 'Thread-29', 'enters state q11 with s=', 'be')\n",
      "('\\t', 'Thread-30', 'enters state q11 with s=', 'e')\n",
      "('\\t', 'Thread-31', 'enters state q01 with s=', 'e')\n",
      "('\\t', 'Thread-32', 'enters state q00 with s=', '')\n",
      "('******', 'Thread-32', 'reached accept state q00 ***')\n",
      "('\\t', 'Thread-33', 'enters state q10 with s=', '')\n"
     ]
    }
   ],
   "source": [
    "s = 'dbe'\n",
    "accepting_threads = []\n",
    "N1(s)"
   ]
  },
  {
   "cell_type": "code",
   "execution_count": 23,
   "metadata": {},
   "outputs": [
    {
     "name": "stdout",
     "output_type": "stream",
     "text": [
      "Accepted by N1: True\n",
      "\n",
      "011\n",
      "001\n",
      "100\n",
      "\n",
      "Belongs to the language B: True\n"
     ]
    }
   ],
   "source": [
    "compare()"
   ]
  },
  {
   "cell_type": "code",
   "execution_count": 24,
   "metadata": {},
   "outputs": [
    {
     "name": "stdout",
     "output_type": "stream",
     "text": [
      "('N1 computes input string', 'dea')\n",
      "('\\t N1 spliting computation with input :', 'dea', 'in two branches')\n",
      "('\\t', 'Thread-34', 'enters state q00 with s=', 'dea')\n",
      "('\\t', 'Thread-35', 'enters state q10 with s=', 'dea')\n",
      "('\\t', 'Thread-36', 'enters state q01 with s=', 'ea')\n",
      "('\\t', 'Thread-37', 'enters state q11 with s=', 'ea')\n",
      "('\\t', 'Thread-38', 'enters state q00 with s=', 'a')\n",
      "('\\t', 'Thread-39', 'enters state q10 with s=', 'a')('\\t', 'Thread-40', 'enters state q00 with s=', '')\n",
      "('******', 'Thread-40', 'reached accept state q00 ***')\n",
      "\n",
      "('\\t', 'Thread-41', 'enters state q10 with s=', '')\n"
     ]
    }
   ],
   "source": [
    "s='dea'\n",
    "accepting_threads = []\n",
    "N1(s)"
   ]
  },
  {
   "cell_type": "code",
   "execution_count": 25,
   "metadata": {},
   "outputs": [
    {
     "name": "stdout",
     "output_type": "stream",
     "text": [
      "Accepted by N1: True\n",
      "\n",
      "010\n",
      "010\n",
      "100\n",
      "\n",
      "Belongs to the language B: True\n"
     ]
    }
   ],
   "source": [
    "compare()"
   ]
  },
  {
   "cell_type": "code",
   "execution_count": 26,
   "metadata": {},
   "outputs": [
    {
     "name": "stdout",
     "output_type": "stream",
     "text": [
      "('N1 computes input string', 'fg')\n",
      "('\\t N1 spliting computation with input :', 'fg', 'in two branches')\n",
      "('\\t', 'Thread-42', 'enters state q00 with s=', 'fg')\n",
      "('\\t', 'Thread-44', 'enters state q00 with s=', 'g') ('\\t', 'Thread-43', 'enters state q10 with s=', 'fg')\n",
      "('\\t', 'Thread-45', 'enters state q10 with s=', 'g')\n",
      "\n",
      "('\\t', 'Thread-46', 'enters state q00 with s=', '')\n",
      "('******', 'Thread-46', 'reached accept state q00 ***')\n",
      "('\\t', 'Thread-47', 'enters state q10 with s=', '')\n"
     ]
    }
   ],
   "source": [
    "s='fg'\n",
    "accepting_threads = []\n",
    "N1(s)"
   ]
  },
  {
   "cell_type": "code",
   "execution_count": 27,
   "metadata": {},
   "outputs": [
    {
     "name": "stdout",
     "output_type": "stream",
     "text": [
      "Accepted by N1: True\n",
      "\n",
      "10\n",
      "01\n",
      "11\n",
      "\n",
      "Belongs to the language B: True\n"
     ]
    }
   ],
   "source": [
    "compare()"
   ]
  },
  {
   "cell_type": "code",
   "execution_count": 28,
   "metadata": {},
   "outputs": [
    {
     "name": "stdout",
     "output_type": "stream",
     "text": [
      "('N1 computes input string', 'de')\n",
      "('\\t N1 spliting computation with input :', 'de', 'in two branches')\n",
      "('\\t', 'Thread-48', 'enters state q00 with s=', 'de')\n",
      "('\\t', 'Thread-49', 'enters state q10 with s=', 'de')\n",
      "('\\t', 'Thread-50', 'enters state q01 with s=', 'e')\n",
      "('\\t', 'Thread-51', 'enters state q11 with s=', 'e')\n",
      "('\\t', 'Thread-52', 'enters state q00 with s=', '')('\\t', 'Thread-53', 'enters state q10 with s=', '')\n",
      "('******', 'Thread-52', 'reached accept state q00 ***')\n",
      "\n"
     ]
    }
   ],
   "source": [
    "s='de'\n",
    "accepting_threads = []\n",
    "N1(s)"
   ]
  },
  {
   "cell_type": "code",
   "execution_count": 29,
   "metadata": {},
   "outputs": [
    {
     "name": "stdout",
     "output_type": "stream",
     "text": [
      "Accepted by N1: True\n",
      "\n",
      "01\n",
      "01\n",
      "10\n",
      "\n",
      "Belongs to the language B: True\n"
     ]
    }
   ],
   "source": [
    "compare()"
   ]
  },
  {
   "cell_type": "markdown",
   "metadata": {},
   "source": [
    "### Examples of strings not in B from the assignment instructions"
   ]
  },
  {
   "cell_type": "code",
   "execution_count": 30,
   "metadata": {},
   "outputs": [
    {
     "name": "stdout",
     "output_type": "stream",
     "text": [
      "('N1 computes input string', 'hfe')\n",
      "('\\t N1 spliting computation with input :', 'hfe', 'in two branches')\n",
      "('\\t', 'Thread-54', 'enters state q00 with s=', 'hfe')\n",
      "('\\t', 'Thread-55', 'enters state q10 with s=', 'hfe')\n"
     ]
    }
   ],
   "source": [
    "s = 'hfe'\n",
    "accepting_threads = []\n",
    "N1(s)"
   ]
  },
  {
   "cell_type": "code",
   "execution_count": 31,
   "metadata": {},
   "outputs": [
    {
     "name": "stdout",
     "output_type": "stream",
     "text": [
      "Accepted by N1: False\n",
      "\n",
      "111\n",
      "101\n",
      "110\n",
      "\n",
      "Belongs to the language B: False\n"
     ]
    }
   ],
   "source": [
    "compare()"
   ]
  },
  {
   "cell_type": "code",
   "execution_count": 32,
   "metadata": {},
   "outputs": [
    {
     "name": "stdout",
     "output_type": "stream",
     "text": [
      "('N1 computes input string', 'dba')\n",
      "('\\t N1 spliting computation with input :', 'dba', 'in two branches')\n",
      "('\\t', 'Thread-56', 'enters state q00 with s=', 'dba')\n",
      "('\\t', 'Thread-57', 'enters state q10 with s=', 'dba')\n",
      "('\\t', 'Thread-58', 'enters state q01 with s=', 'ba')\n",
      "('\\t', 'Thread-59', 'enters state q11 with s=', 'ba')\n",
      "('\\t', 'Thread-60', 'enters state q11 with s=', 'a')\n",
      "('\\t', 'Thread-61', 'enters state q01 with s=', 'a')\n"
     ]
    }
   ],
   "source": [
    "s ='dba'\n",
    "accepting_threads = []\n",
    "N1(s)"
   ]
  },
  {
   "cell_type": "code",
   "execution_count": 33,
   "metadata": {},
   "outputs": [
    {
     "name": "stdout",
     "output_type": "stream",
     "text": [
      "Accepted by N1: False\n",
      "\n",
      "010\n",
      "000\n",
      "100\n",
      "\n",
      "Belongs to the language B: False\n"
     ]
    }
   ],
   "source": [
    "compare()"
   ]
  },
  {
   "cell_type": "code",
   "execution_count": 34,
   "metadata": {},
   "outputs": [
    {
     "name": "stdout",
     "output_type": "stream",
     "text": [
      "('N1 computes input string', 'hh')\n",
      "('\\t N1 spliting computation with input :', 'hh', 'in two branches')\n",
      "('\\t', 'Thread-62', 'enters state q00 with s=', 'hh')\n",
      "('\\t', 'Thread-63', 'enters state q10 with s=', 'hh')\n"
     ]
    }
   ],
   "source": [
    "s = 'hh'\n",
    "accepting_threads = []\n",
    "N1(s)"
   ]
  },
  {
   "cell_type": "code",
   "execution_count": 35,
   "metadata": {},
   "outputs": [
    {
     "name": "stdout",
     "output_type": "stream",
     "text": [
      "Accepted by N1: False\n",
      "\n",
      "11\n",
      "11\n",
      "11\n",
      "\n",
      "Belongs to the language B: False\n"
     ]
    }
   ],
   "source": [
    "compare()"
   ]
  },
  {
   "cell_type": "code",
   "execution_count": 36,
   "metadata": {},
   "outputs": [
    {
     "name": "stdout",
     "output_type": "stream",
     "text": [
      "('N1 computes input string', 'ae')\n",
      "('\\t N1 spliting computation with input :', 'ae', 'in two branches')\n",
      "('\\t', 'Thread-64', 'enters state q00 with s=', 'ae')\n",
      "('\\t', 'Thread-66', 'enters state q00 with s=', 'e')('\\t', 'Thread-65', 'enters state q10 with s=', 'ae')\n",
      "\n",
      "('\\t', 'Thread-67', 'enters state q10 with s=', 'e')\n"
     ]
    }
   ],
   "source": [
    "s = 'ae'\n",
    "accepting_threads = []\n",
    "N1(s)"
   ]
  },
  {
   "cell_type": "code",
   "execution_count": 37,
   "metadata": {},
   "outputs": [
    {
     "name": "stdout",
     "output_type": "stream",
     "text": [
      "Accepted by N1: False\n",
      "\n",
      "01\n",
      "01\n",
      "00\n",
      "\n",
      "Belongs to the language B: False\n"
     ]
    }
   ],
   "source": [
    "compare()"
   ]
  },
  {
   "cell_type": "markdown",
   "metadata": {},
   "source": [
    "### My example of a string in B"
   ]
  },
  {
   "cell_type": "code",
   "execution_count": 40,
   "metadata": {},
   "outputs": [
    {
     "name": "stdout",
     "output_type": "stream",
     "text": [
      "('N1 computes input string', 'agdbcbea')\n",
      "('\\t N1 spliting computation with input :', 'agdbcbea', 'in two branches')\n",
      "('\\t', 'Thread-74', 'enters state q00 with s=', 'agdbcbea')\n",
      "('\\t', 'Thread-75', 'enters state q10 with s=', 'agdbcbea')\n",
      "('\\t', 'Thread-76', 'enters state q00 with s=', 'gdbcbea')\n",
      "('\\t', 'Thread-77', 'enters state q10 with s=', 'gdbcbea')('\\t', 'Thread-78', 'enters state q00 with s=', 'dbcbea')\n",
      "\n",
      "('\\t', 'Thread-79', 'enters state q10 with s=', 'dbcbea')\n",
      "('\\t', 'Thread-80', 'enters state q01 with s=', 'bcbea')\n",
      "('\\t', 'Thread-81', 'enters state q11 with s=', 'bcbea')\n",
      "('\\t', 'Thread-82', 'enters state q11 with s=', 'cbea')\n",
      "('\\t', 'Thread-83', 'enters state q01 with s=', 'cbea')\n",
      " ('\\t', 'Thread-84', 'enters state q11 with s=', 'bea')\n",
      "('\\t', 'Thread-85', 'enters state q01 with s=', 'bea')\n",
      "('\\t', 'Thread-86', 'enters state q11 with s=', 'ea')\n",
      "('\\t', 'Thread-87', 'enters state q01 with s=', 'ea')\n",
      "('\\t', 'Thread-88', 'enters state q00 with s=', 'a')\n",
      "('\\t', 'Thread-89', 'enters state q10 with s=', 'a')\n",
      "('\\t', 'Thread-90', 'enters state q00 with s=', '')\n",
      "('******', 'Thread-90', 'reached accept state q00 ***')\n",
      "('\\t', 'Thread-91', 'enters state q10 with s=', '')\n"
     ]
    }
   ],
   "source": [
    "s = 'agdbcbea'\n",
    "accepting_threads = []\n",
    "N1(s)"
   ]
  },
  {
   "cell_type": "code",
   "execution_count": 41,
   "metadata": {},
   "outputs": [
    {
     "name": "stdout",
     "output_type": "stream",
     "text": [
      "Accepted by N1: True\n",
      "\n",
      "00010110\n",
      "01001010\n",
      "01100000\n",
      "\n",
      "Belongs to the language B: True\n"
     ]
    }
   ],
   "source": [
    "compare()"
   ]
  },
  {
   "cell_type": "markdown",
   "metadata": {},
   "source": [
    "### Testing a random string"
   ]
  },
  {
   "cell_type": "code",
   "execution_count": 38,
   "metadata": {},
   "outputs": [
    {
     "name": "stdout",
     "output_type": "stream",
     "text": [
      "('N1 computes input string', 'gabf')\n",
      "('\\t N1 spliting computation with input :', 'gabf', 'in two branches')\n",
      "('\\t', 'Thread-68', 'enters state q00 with s=', 'gabf')\n",
      "('\\t', 'Thread-69', 'enters state q00 with s=', 'abf')('\\t', 'Thread-70', 'enters state q10 with s=', 'abf')\n",
      "\n",
      "('\\t', 'Thread-71', 'enters state q10 with s=', 'gabf')\n",
      "('\\t', 'Thread-72', 'enters state q00 with s=', 'bf')\n",
      "('\\t', 'Thread-73', 'enters state q10 with s=', 'bf')\n"
     ]
    }
   ],
   "source": [
    "import random \n",
    "\n",
    "alphabet = 'abcdefgh'\n",
    "rand_string = ''\n",
    "length = random.randint(0,5)\n",
    "for _ in range(length):\n",
    "    index = random.randint(0,7)\n",
    "    rand_string+= alphabet[index]\n",
    "\n",
    "accepting_threads = []\n",
    "N1(rand_string)"
   ]
  },
  {
   "cell_type": "code",
   "execution_count": 39,
   "metadata": {},
   "outputs": [
    {
     "name": "stdout",
     "output_type": "stream",
     "text": [
      "Accepted by N1: False\n",
      "\n",
      "01\n",
      "01\n",
      "00\n",
      "\n",
      "Belongs to the language B: False\n"
     ]
    }
   ],
   "source": [
    "compare()"
   ]
  }
 ],
 "metadata": {
  "kernelspec": {
   "display_name": "Python 2",
   "language": "python",
   "name": "python2"
  },
  "language_info": {
   "codemirror_mode": {
    "name": "ipython",
    "version": 2
   },
   "file_extension": ".py",
   "mimetype": "text/x-python",
   "name": "python",
   "nbconvert_exporter": "python",
   "pygments_lexer": "ipython2",
   "version": "2.7.15"
  }
 },
 "nbformat": 4,
 "nbformat_minor": 2
}
