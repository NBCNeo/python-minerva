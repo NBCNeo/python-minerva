{
 "cells": [
  {
   "cell_type": "code",
   "execution_count": 24,
   "metadata": {},
   "outputs": [
    {
     "name": "stdout",
     "output_type": "stream",
     "text": [
      "('s', [0])\n"
     ]
    }
   ],
   "source": [
    "def extended_bottom_up_cut_rod(p,n):\n",
    "    r = list(range(n+1))\n",
    "    s = list(range(n+1))\n",
    "    for j in range(1,n+1):\n",
    "        q = -float('inf')\n",
    "        for i in range(1,j+1):\n",
    "            if q < p[i] + r[j-i]:\n",
    "                q=p[i]+r[j-i]\n",
    "                s[j]=i\n",
    "        r[j]=q\n",
    "    return [r,s]\n",
    "\n",
    "def print_cut_rod_solution(p,n):\n",
    "    s = extended_bottom_up_cut_rod(p,n)[1]\n",
    "    print('s',s)\n",
    "    while n>0:\n",
    "        print(s[n])\n",
    "        print('n',n)\n",
    "        n = n - s[n]\n",
    "\n",
    "p = [0,1,5,8,9,10,17,17,20,24,30,32,36,36,38]\n",
    "\n",
    "print_cut_rod_solution(p,0)"
   ]
  },
  {
   "cell_type": "code",
   "execution_count": 33,
   "metadata": {},
   "outputs": [
    {
     "name": "stdout",
     "output_type": "stream",
     "text": [
      "1\n",
      "2\n",
      "3\n",
      "2\n",
      "2\n",
      "2\n",
      "3\n",
      "6\n",
      "1\n",
      "6\n",
      "2\n",
      "6\n",
      "3\n",
      "6\n",
      "10\n",
      "11\n",
      "12\n",
      "3\n",
      "10\n",
      "2\n",
      "12\n",
      "10\n",
      "10\n",
      "10\n",
      "10\n",
      "12\n",
      "12\n",
      "Time: 0.0010039806366\n"
     ]
    }
   ],
   "source": [
    "import matplotlib.pyplot as plt\n",
    "import timeit\n",
    "\n",
    "def cut_rod(p,n):\n",
    "    if n==0:\n",
    "        return 0\n",
    "    q = -float(\"inf\")\n",
    "    for i in range(n):\n",
    "        q = max(q,p[i]+cut_rod(p,n-i-1))\n",
    "    return q\n",
    "\n",
    "def extended_bottom_up_cut_rod(p,n):\n",
    "    r = list(range(n+1))\n",
    "    s = list(range(n+1))\n",
    "    for j in range(1,n+1):\n",
    "        q = -float('inf')\n",
    "        for i in range(1,j+1):\n",
    "            if q < p[i] + r[j-i]-int(i!=1 and i!=j):\n",
    "                q=p[i]+r[j-i]-int(i!=1 and i!=j)\n",
    "                s[j]=i\n",
    "        r[j]=q\n",
    "    return [r,s]\n",
    "\n",
    "def print_cut_rod_solution(p,n):\n",
    "    s = extended_bottom_up_cut_rod(p,n)[1]\n",
    "    while n>0:\n",
    "        print(s[n])\n",
    "        n = n - s[n]\n",
    "\n",
    "p = [1,5,8,9,10,17,17,20,24,30,32,36,36,38]\n",
    "p2 = [0,1,5,8,9,10,17,17,20,24,30,32,36,36,38]\n",
    "p3 = [0,1,5,8,9,10,17,17,20,24,30,32,36,36,38,39,40,41,43,44,45,46,47,48,50,51,52,53,54,55,56,57,58,59,61,63,64,64,65,66,67,67,68,68,69,70,71,74,74,75,76,77,78,78,79,80,83,87,88,94,95,96,97,97,97,97,97,97,98,99]\n",
    "\n",
    "\n",
    "times = []\n",
    "dynamic = []\n",
    "\n",
    "for j in range(15):\n",
    "    start = timeit.default_timer()\n",
    "    cut_rod(p,j)\n",
    "    stop = timeit.default_timer()\n",
    "    times.append(stop - start)\n",
    "    start2 = timeit.default_timer()\n",
    "    print_cut_rod_solution(p2,j)\n",
    "    stop2 = timeit.default_timer()\n",
    "    dynamic.append(stop2 - start2)\n",
    "\n",
    "sum=0\n",
    "nsums = 1000000\n",
    "for z in range(nsums):\n",
    "    start = timeit.default_timer()\n",
    "    cut_rod(p,1)\n",
    "    stop = timeit.default_timer()\n",
    "    sum += stop - start\n",
    "\n",
    "y = [0 for x in range(15)]\n",
    "y[0] = times[0]\n",
    "y[1] = sum/nsums\n",
    "\n",
    "for a in range(2,15):\n",
    "    y[a] = y[0]*2**(a-1)\n",
    "#plt.plot(list(range(15)),times)\n",
    "#plt.plot(list(range(15)),y,color ='red')\n",
    "#plt.plot(list(range(15)),dynamic, color='green')\n",
    "#plt.show()\n",
    "\n",
    "\n",
    "start = timeit.default_timer()\n",
    "print_cut_rod_solution(p3,64)\n",
    "stop = timeit.default_timer()\n",
    "print('Time: '+str(stop-start))"
   ]
  },
  {
   "cell_type": "code",
   "execution_count": 35,
   "metadata": {},
   "outputs": [
    {
     "data": {
      "text/plain": [
       "1"
      ]
     },
     "execution_count": 35,
     "metadata": {},
     "output_type": "execute_result"
    }
   ],
   "source": [
    "int(True)"
   ]
  },
  {
   "cell_type": "code",
   "execution_count": null,
   "metadata": {},
   "outputs": [],
   "source": []
  }
 ],
 "metadata": {
  "kernelspec": {
   "display_name": "Python 2",
   "language": "python",
   "name": "python2"
  },
  "language_info": {
   "codemirror_mode": {
    "name": "ipython",
    "version": 2
   },
   "file_extension": ".py",
   "mimetype": "text/x-python",
   "name": "python",
   "nbconvert_exporter": "python",
   "pygments_lexer": "ipython2",
   "version": "2.7.15"
  }
 },
 "nbformat": 4,
 "nbformat_minor": 2
}
